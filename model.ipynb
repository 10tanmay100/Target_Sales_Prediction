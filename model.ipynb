{
 "cells": [
  {
   "cell_type": "code",
   "execution_count": 1,
   "id": "3589dc6c-136d-4dac-b3bf-e02911eddaeb",
   "metadata": {},
   "outputs": [],
   "source": [
    "import pandas as pd\n",
    "import numpy as np\n",
    "import matplotlib.pyplot as plt\n",
    "import seaborn as sns\n",
    "from sklearn.cluster import KMeans\n",
    "from sklearn.metrics import silhouette_score\n",
    "from sklearn.cluster import AgglomerativeClustering\n",
    "from sklearn.model_selection import GridSearchCV\n",
    "from sklearn.linear_model import LinearRegression\n",
    "import statsmodels.api as sm # Linear Regression from STATSMODEL\n",
    "from sklearn.metrics import r2_score\n",
    "from sklearn.linear_model import Lasso\n",
    "from sklearn.linear_model import Ridge\n",
    "from sklearn.model_selection import GridSearchCV\n",
    "import warnings\n",
    "warnings.filterwarnings(\"ignore\")\n",
    "from sklearn.svm import SVR\n",
    "from sklearn.model_selection import KFold\n",
    "from sklearn.model_selection import cross_val_score\n",
    "from sklearn.tree import DecisionTreeRegressor\n",
    "from sklearn.ensemble import RandomForestRegressor\n",
    "from sklearn.linear_model import LassoCV\n",
    "from sklearn.linear_model import RidgeCV\n",
    "from sklearn.linear_model import ElasticNetCV\n",
    "from sklearn.linear_model import ElasticNet\n",
    "from sklearn.neighbors import KNeighborsRegressor"
   ]
  },
  {
   "cell_type": "code",
   "execution_count": 2,
   "id": "e0fba484-4969-42ac-9f71-d3b516f86e49",
   "metadata": {},
   "outputs": [],
   "source": [
    "df=pd.read_csv(\"train.csv\")"
   ]
  },
  {
   "cell_type": "code",
   "execution_count": 3,
   "id": "4f8850cb-4eec-42c8-b3fd-293d1b9008d7",
   "metadata": {},
   "outputs": [
    {
     "data": {
      "text/html": [
       "<div>\n",
       "<style scoped>\n",
       "    .dataframe tbody tr th:only-of-type {\n",
       "        vertical-align: middle;\n",
       "    }\n",
       "\n",
       "    .dataframe tbody tr th {\n",
       "        vertical-align: top;\n",
       "    }\n",
       "\n",
       "    .dataframe thead th {\n",
       "        text-align: right;\n",
       "    }\n",
       "</style>\n",
       "<table border=\"1\" class=\"dataframe\">\n",
       "  <thead>\n",
       "    <tr style=\"text-align: right;\">\n",
       "      <th></th>\n",
       "      <th>Food</th>\n",
       "      <th>Religion</th>\n",
       "      <th>Temperature</th>\n",
       "      <th>Fuel_Price</th>\n",
       "      <th>MarkDown1</th>\n",
       "      <th>MarkDown2</th>\n",
       "      <th>MarkDown3</th>\n",
       "      <th>MarkDown4</th>\n",
       "      <th>MarkDown5</th>\n",
       "      <th>CPI</th>\n",
       "      <th>Unemployment_Rate</th>\n",
       "      <th>Holiday</th>\n",
       "      <th>Size</th>\n",
       "      <th>Total_Sales</th>\n",
       "    </tr>\n",
       "  </thead>\n",
       "  <tbody>\n",
       "    <tr>\n",
       "      <th>0</th>\n",
       "      <td>0.0</td>\n",
       "      <td>0.0</td>\n",
       "      <td>-1.437080</td>\n",
       "      <td>-0.877511</td>\n",
       "      <td>-0.416868</td>\n",
       "      <td>-0.171539</td>\n",
       "      <td>-0.076158</td>\n",
       "      <td>-0.271466</td>\n",
       "      <td>-0.374964</td>\n",
       "      <td>-1.142078</td>\n",
       "      <td>1.178756</td>\n",
       "      <td>3.625308</td>\n",
       "      <td>0.443914</td>\n",
       "      <td>902109.69</td>\n",
       "    </tr>\n",
       "    <tr>\n",
       "      <th>1</th>\n",
       "      <td>0.0</td>\n",
       "      <td>0.0</td>\n",
       "      <td>-1.448442</td>\n",
       "      <td>-1.373423</td>\n",
       "      <td>-0.416868</td>\n",
       "      <td>-0.171539</td>\n",
       "      <td>-0.076158</td>\n",
       "      <td>-0.271466</td>\n",
       "      <td>-0.374964</td>\n",
       "      <td>0.478730</td>\n",
       "      <td>-0.262822</td>\n",
       "      <td>-0.275839</td>\n",
       "      <td>1.048281</td>\n",
       "      <td>1434908.13</td>\n",
       "    </tr>\n",
       "    <tr>\n",
       "      <th>2</th>\n",
       "      <td>1.0</td>\n",
       "      <td>0.0</td>\n",
       "      <td>-1.331042</td>\n",
       "      <td>-1.205206</td>\n",
       "      <td>-0.416868</td>\n",
       "      <td>-0.171539</td>\n",
       "      <td>-0.076158</td>\n",
       "      <td>-0.271466</td>\n",
       "      <td>-0.374964</td>\n",
       "      <td>-1.022932</td>\n",
       "      <td>-1.124994</td>\n",
       "      <td>-0.275839</td>\n",
       "      <td>-0.245459</td>\n",
       "      <td>1408082.96</td>\n",
       "    </tr>\n",
       "    <tr>\n",
       "      <th>3</th>\n",
       "      <td>1.0</td>\n",
       "      <td>0.0</td>\n",
       "      <td>0.445110</td>\n",
       "      <td>-1.196468</td>\n",
       "      <td>-0.416868</td>\n",
       "      <td>-0.171539</td>\n",
       "      <td>-0.076158</td>\n",
       "      <td>-0.271466</td>\n",
       "      <td>-0.374964</td>\n",
       "      <td>-0.908679</td>\n",
       "      <td>0.560403</td>\n",
       "      <td>-0.275839</td>\n",
       "      <td>-0.417118</td>\n",
       "      <td>1160412.71</td>\n",
       "    </tr>\n",
       "    <tr>\n",
       "      <th>4</th>\n",
       "      <td>0.0</td>\n",
       "      <td>0.0</td>\n",
       "      <td>0.782703</td>\n",
       "      <td>-1.253268</td>\n",
       "      <td>-0.416868</td>\n",
       "      <td>-0.171539</td>\n",
       "      <td>-0.076158</td>\n",
       "      <td>-0.271466</td>\n",
       "      <td>-0.374964</td>\n",
       "      <td>0.818260</td>\n",
       "      <td>-0.252685</td>\n",
       "      <td>-0.275839</td>\n",
       "      <td>1.165667</td>\n",
       "      <td>2031852.16</td>\n",
       "    </tr>\n",
       "  </tbody>\n",
       "</table>\n",
       "</div>"
      ],
      "text/plain": [
       "   Food  Religion  Temperature  Fuel_Price  MarkDown1  MarkDown2  MarkDown3  \\\n",
       "0   0.0       0.0    -1.437080   -0.877511  -0.416868  -0.171539  -0.076158   \n",
       "1   0.0       0.0    -1.448442   -1.373423  -0.416868  -0.171539  -0.076158   \n",
       "2   1.0       0.0    -1.331042   -1.205206  -0.416868  -0.171539  -0.076158   \n",
       "3   1.0       0.0     0.445110   -1.196468  -0.416868  -0.171539  -0.076158   \n",
       "4   0.0       0.0     0.782703   -1.253268  -0.416868  -0.171539  -0.076158   \n",
       "\n",
       "   MarkDown4  MarkDown5       CPI  Unemployment_Rate   Holiday      Size  \\\n",
       "0  -0.271466  -0.374964 -1.142078           1.178756  3.625308  0.443914   \n",
       "1  -0.271466  -0.374964  0.478730          -0.262822 -0.275839  1.048281   \n",
       "2  -0.271466  -0.374964 -1.022932          -1.124994 -0.275839 -0.245459   \n",
       "3  -0.271466  -0.374964 -0.908679           0.560403 -0.275839 -0.417118   \n",
       "4  -0.271466  -0.374964  0.818260          -0.252685 -0.275839  1.165667   \n",
       "\n",
       "   Total_Sales  \n",
       "0    902109.69  \n",
       "1   1434908.13  \n",
       "2   1408082.96  \n",
       "3   1160412.71  \n",
       "4   2031852.16  "
      ]
     },
     "execution_count": 3,
     "metadata": {},
     "output_type": "execute_result"
    }
   ],
   "source": [
    "df.head()"
   ]
  },
  {
   "cell_type": "code",
   "execution_count": 4,
   "id": "1118a345-406d-4b35-a909-2abceaa15628",
   "metadata": {},
   "outputs": [],
   "source": [
    "x=df.drop(\"Total_Sales\",axis=1)"
   ]
  },
  {
   "cell_type": "markdown",
   "id": "bab07bff-71a4-450b-8c87-a58591165729",
   "metadata": {
    "tags": []
   },
   "source": [
    "## KMEANS"
   ]
  },
  {
   "cell_type": "code",
   "execution_count": 5,
   "id": "8cf81464-5896-4580-a18b-0dae22f821d8",
   "metadata": {},
   "outputs": [],
   "source": [
    "#clustering\n",
    "wcss = []\n",
    "K = range(1,10)\n",
    "for num_clusters in list(K):\n",
    "    kmeans = KMeans(n_clusters=num_clusters, init = \"k-means++\")\n",
    "    kmeans.fit_predict(x)\n",
    "    wcss.append(kmeans.inertia_)"
   ]
  },
  {
   "cell_type": "code",
   "execution_count": 6,
   "id": "442108f0-6eaf-4a16-965a-b700ba98f54c",
   "metadata": {},
   "outputs": [
    {
     "data": {
      "image/png": "[encoded data removed]",
      "text/plain": [
       "<Figure size 640x480 with 1 Axes>"
      ]
     },
     "metadata": {},
     "output_type": "display_data"
    }
   ],
   "source": [
    "plt.plot(K, wcss, 'bx-')\n",
    "plt.xlabel('No. of clusters')\n",
    "plt.ylabel('Cost')\n",
    "plt.title('Elbow Method For Optimal k')\n",
    "plt.show()"
   ]
  },
  {
   "cell_type": "code",
   "execution_count": 7,
   "id": "a8b66fa1-9839-4d3c-8c3d-28e8bf5ae1e5",
   "metadata": {},
   "outputs": [],
   "source": [
    "kmeans=KMeans(n_clusters=3,init=\"k-means++\",random_state=0)"
   ]
  },
  {
   "cell_type": "code",
   "execution_count": 8,
   "id": "5ff4b144-aae2-4f10-aa79-8a4b94bbb70d",
   "metadata": {},
   "outputs": [],
   "source": [
    "x=df.drop(\"Total_Sales\",axis=1)\n",
    "labels=kmeans.fit_predict(x)"
   ]
  },
  {
   "cell_type": "code",
   "execution_count": 9,
   "id": "f00cdd4c-477d-44c3-abc7-5dc9fb5a6adc",
   "metadata": {},
   "outputs": [
    {
     "data": {
      "text/plain": [
       "{0, 1, 2}"
      ]
     },
     "execution_count": 9,
     "metadata": {},
     "output_type": "execute_result"
    }
   ],
   "source": [
    "set(labels)"
   ]
  },
  {
   "cell_type": "code",
   "execution_count": 10,
   "id": "7a12328c-0a43-47f6-9ad7-ca64ceff91b4",
   "metadata": {},
   "outputs": [
    {
     "name": "stdout",
     "output_type": "stream",
     "text": [
      "0.2773931057628104\n"
     ]
    }
   ],
   "source": [
    "silhouette_avg = silhouette_score(x, labels)\n",
    "print(silhouette_avg)"
   ]
  },
  {
   "cell_type": "code",
   "execution_count": 11,
   "id": "d1a81dec-35b6-42b9-9d64-d9e84228280b",
   "metadata": {},
   "outputs": [],
   "source": [
    "# #clustering\n",
    "# K = range(2,10)\n",
    "# for num_clusters in list(K):\n",
    "#     kmeans = KMeans(n_clusters=num_clusters, init = \"k-means++\", random_state=0)\n",
    "#     labels=kmeans.fit_predict(x)\n",
    "#     silhouette_avg = silhouette_score(x, labels)\n",
    "#     print(num_clusters,silhouette_avg)"
   ]
  },
  {
   "cell_type": "code",
   "execution_count": 12,
   "id": "e1a7ee76-dc2a-4d51-b951-699e56340094",
   "metadata": {},
   "outputs": [],
   "source": [
    "cluster_df=pd.concat([x,df[\"Total_Sales\"],pd.DataFrame(labels,columns=[\"cluster\"])],axis=1)"
   ]
  },
  {
   "cell_type": "code",
   "execution_count": 13,
   "id": "2a3ab28c-9531-4dd3-bd85-f60183979d73",
   "metadata": {},
   "outputs": [
    {
     "data": {
      "text/plain": [
       "array([1, 0, 2], dtype=int32)"
      ]
     },
     "execution_count": 13,
     "metadata": {},
     "output_type": "execute_result"
    }
   ],
   "source": [
    "cluster_df[\"cluster\"].unique()"
   ]
  },
  {
   "cell_type": "code",
   "execution_count": 14,
   "id": "9ea93f67-1fbf-4781-aeca-0099482f7195",
   "metadata": {},
   "outputs": [],
   "source": [
    "df1=cluster_df[cluster_df[\"cluster\"]==0]"
   ]
  },
  {
   "cell_type": "code",
   "execution_count": 15,
   "id": "0410dc00-f6ba-4e9c-a8d9-3e1e5e76f495",
   "metadata": {},
   "outputs": [
    {
     "data": {
      "text/plain": [
       "(3936, 15)"
      ]
     },
     "execution_count": 15,
     "metadata": {},
     "output_type": "execute_result"
    }
   ],
   "source": [
    "df1.shape"
   ]
  },
  {
   "cell_type": "code",
   "execution_count": 16,
   "id": "04c439b4-8641-4512-837c-56ea17cbde97",
   "metadata": {},
   "outputs": [],
   "source": [
    "df2=cluster_df[cluster_df[\"cluster\"]==1]"
   ]
  },
  {
   "cell_type": "code",
   "execution_count": 17,
   "id": "c41a82a3-b45f-44b8-8b02-49b008eab803",
   "metadata": {},
   "outputs": [
    {
     "data": {
      "text/plain": [
       "(353, 15)"
      ]
     },
     "execution_count": 17,
     "metadata": {},
     "output_type": "execute_result"
    }
   ],
   "source": [
    "df2.shape"
   ]
  },
  {
   "cell_type": "code",
   "execution_count": 18,
   "id": "156efa04-0c98-4a5a-9c0c-57dca0cfe8a4",
   "metadata": {},
   "outputs": [],
   "source": [
    "df3=cluster_df[cluster_df[\"cluster\"]==2]"
   ]
  },
  {
   "cell_type": "code",
   "execution_count": 19,
   "id": "d7b8e7af-cd7d-4011-961f-258dd56e7bea",
   "metadata": {},
   "outputs": [
    {
     "data": {
      "text/plain": [
       "(859, 15)"
      ]
     },
     "execution_count": 19,
     "metadata": {},
     "output_type": "execute_result"
    }
   ],
   "source": [
    "df3.shape"
   ]
  },
  {
   "cell_type": "markdown",
   "id": "4167b143-26d0-4473-9803-7193a7e52e0f",
   "metadata": {
    "jp-MarkdownHeadingCollapsed": true,
    "tags": []
   },
   "source": [
    "## CLUSTER1"
   ]
  },
  {
   "cell_type": "code",
   "execution_count": 20,
   "id": "e05dcea1-1d9b-43f8-b8c7-8dcf2a3c25ac",
   "metadata": {},
   "outputs": [],
   "source": [
    "df1.drop(\"cluster\",axis=1,inplace=True)"
   ]
  },
  {
   "cell_type": "code",
   "execution_count": 21,
   "id": "dde27097-c2cb-442b-b1d3-4c08ead99c70",
   "metadata": {},
   "outputs": [],
   "source": [
    "X=df1.drop(\"Total_Sales\",axis=1)\n",
    "y=df1[\"Total_Sales\"]"
   ]
  },
  {
   "cell_type": "code",
   "execution_count": 22,
   "id": "6cef4faa-e044-446d-b8ac-0e0798393b9a",
   "metadata": {},
   "outputs": [
    {
     "data": {
      "text/html": [
       "<div>\n",
       "<style scoped>\n",
       "    .dataframe tbody tr th:only-of-type {\n",
       "        vertical-align: middle;\n",
       "    }\n",
       "\n",
       "    .dataframe tbody tr th {\n",
       "        vertical-align: top;\n",
       "    }\n",
       "\n",
       "    .dataframe thead th {\n",
       "        text-align: right;\n",
       "    }\n",
       "</style>\n",
       "<table border=\"1\" class=\"dataframe\">\n",
       "  <thead>\n",
       "    <tr style=\"text-align: right;\">\n",
       "      <th></th>\n",
       "      <th>Food</th>\n",
       "      <th>Religion</th>\n",
       "      <th>Temperature</th>\n",
       "      <th>Fuel_Price</th>\n",
       "      <th>MarkDown1</th>\n",
       "      <th>MarkDown2</th>\n",
       "      <th>MarkDown3</th>\n",
       "      <th>MarkDown4</th>\n",
       "      <th>MarkDown5</th>\n",
       "      <th>CPI</th>\n",
       "      <th>Unemployment_Rate</th>\n",
       "      <th>Holiday</th>\n",
       "      <th>Size</th>\n",
       "    </tr>\n",
       "  </thead>\n",
       "  <tbody>\n",
       "    <tr>\n",
       "      <th>1</th>\n",
       "      <td>0.0</td>\n",
       "      <td>0.0</td>\n",
       "      <td>-1.448442</td>\n",
       "      <td>-1.373423</td>\n",
       "      <td>-0.416868</td>\n",
       "      <td>-0.171539</td>\n",
       "      <td>-0.076158</td>\n",
       "      <td>-0.271466</td>\n",
       "      <td>-0.374964</td>\n",
       "      <td>0.478730</td>\n",
       "      <td>-0.262822</td>\n",
       "      <td>-0.275839</td>\n",
       "      <td>1.048281</td>\n",
       "    </tr>\n",
       "    <tr>\n",
       "      <th>2</th>\n",
       "      <td>1.0</td>\n",
       "      <td>0.0</td>\n",
       "      <td>-1.331042</td>\n",
       "      <td>-1.205206</td>\n",
       "      <td>-0.416868</td>\n",
       "      <td>-0.171539</td>\n",
       "      <td>-0.076158</td>\n",
       "      <td>-0.271466</td>\n",
       "      <td>-0.374964</td>\n",
       "      <td>-1.022932</td>\n",
       "      <td>-1.124994</td>\n",
       "      <td>-0.275839</td>\n",
       "      <td>-0.245459</td>\n",
       "    </tr>\n",
       "    <tr>\n",
       "      <th>3</th>\n",
       "      <td>1.0</td>\n",
       "      <td>0.0</td>\n",
       "      <td>0.445110</td>\n",
       "      <td>-1.196468</td>\n",
       "      <td>-0.416868</td>\n",
       "      <td>-0.171539</td>\n",
       "      <td>-0.076158</td>\n",
       "      <td>-0.271466</td>\n",
       "      <td>-0.374964</td>\n",
       "      <td>-0.908679</td>\n",
       "      <td>0.560403</td>\n",
       "      <td>-0.275839</td>\n",
       "      <td>-0.417118</td>\n",
       "    </tr>\n",
       "    <tr>\n",
       "      <th>4</th>\n",
       "      <td>0.0</td>\n",
       "      <td>0.0</td>\n",
       "      <td>0.782703</td>\n",
       "      <td>-1.253268</td>\n",
       "      <td>-0.416868</td>\n",
       "      <td>-0.171539</td>\n",
       "      <td>-0.076158</td>\n",
       "      <td>-0.271466</td>\n",
       "      <td>-0.374964</td>\n",
       "      <td>0.818260</td>\n",
       "      <td>-0.252685</td>\n",
       "      <td>-0.275839</td>\n",
       "      <td>1.165667</td>\n",
       "    </tr>\n",
       "    <tr>\n",
       "      <th>6</th>\n",
       "      <td>0.0</td>\n",
       "      <td>0.0</td>\n",
       "      <td>0.695059</td>\n",
       "      <td>-1.085051</td>\n",
       "      <td>-0.416868</td>\n",
       "      <td>-0.171539</td>\n",
       "      <td>-0.076158</td>\n",
       "      <td>-0.271466</td>\n",
       "      <td>-0.374964</td>\n",
       "      <td>-0.999063</td>\n",
       "      <td>0.062093</td>\n",
       "      <td>-0.275839</td>\n",
       "      <td>1.166885</td>\n",
       "    </tr>\n",
       "  </tbody>\n",
       "</table>\n",
       "</div>"
      ],
      "text/plain": [
       "   Food  Religion  Temperature  Fuel_Price  MarkDown1  MarkDown2  MarkDown3  \\\n",
       "1   0.0       0.0    -1.448442   -1.373423  -0.416868  -0.171539  -0.076158   \n",
       "2   1.0       0.0    -1.331042   -1.205206  -0.416868  -0.171539  -0.076158   \n",
       "3   1.0       0.0     0.445110   -1.196468  -0.416868  -0.171539  -0.076158   \n",
       "4   0.0       0.0     0.782703   -1.253268  -0.416868  -0.171539  -0.076158   \n",
       "6   0.0       0.0     0.695059   -1.085051  -0.416868  -0.171539  -0.076158   \n",
       "\n",
       "   MarkDown4  MarkDown5       CPI  Unemployment_Rate   Holiday      Size  \n",
       "1  -0.271466  -0.374964  0.478730          -0.262822 -0.275839  1.048281  \n",
       "2  -0.271466  -0.374964 -1.022932          -1.124994 -0.275839 -0.245459  \n",
       "3  -0.271466  -0.374964 -0.908679           0.560403 -0.275839 -0.417118  \n",
       "4  -0.271466  -0.374964  0.818260          -0.252685 -0.275839  1.165667  \n",
       "6  -0.271466  -0.374964 -0.999063           0.062093 -0.275839  1.166885  "
      ]
     },
     "execution_count": 22,
     "metadata": {},
     "output_type": "execute_result"
    }
   ],
   "source": [
    "X.head()"
   ]
  },
  {
   "cell_type": "code",
   "execution_count": 23,
   "id": "d152157c-05b9-4c26-8fe1-4b8d61fce8a4",
   "metadata": {},
   "outputs": [
    {
     "data": {
      "text/plain": [
       "(3936, 13)"
      ]
     },
     "execution_count": 23,
     "metadata": {},
     "output_type": "execute_result"
    }
   ],
   "source": [
    "X.shape"
   ]
  },
  {
   "cell_type": "markdown",
   "id": "61e46969-19af-4791-98eb-443f9ec820d3",
   "metadata": {
    "tags": []
   },
   "source": [
    "### Linear Regression"
   ]
  },
  {
   "cell_type": "code",
   "execution_count": 24,
   "id": "20439262-ac1b-4300-b1ff-b11a1971612d",
   "metadata": {},
   "outputs": [],
   "source": [
    "lr=LinearRegression()"
   ]
  },
  {
   "cell_type": "code",
   "execution_count": 25,
   "id": "0015e29d-d34c-489a-99a3-c9f4efc68a49",
   "metadata": {},
   "outputs": [
    {
     "data": {
      "text/html": [
       "<style>#sk-container-id-1 {color: black;background-color: white;}#sk-container-id-1 pre{padding: 0;}#sk-container-id-1 div.sk-toggleable {background-color: white;}#sk-container-id-1 label.sk-toggleable__label {cursor: pointer;display: block;width: 100%;margin-bottom: 0;padding: 0.3em;box-sizing: border-box;text-align: center;}#sk-container-id-1 label.sk-toggleable__label-arrow:before {content: \"▸\";float: left;margin-right: 0.25em;color: #696969;}#sk-container-id-1 label.sk-toggleable__label-arrow:hover:before {color: black;}#sk-container-id-1 div.sk-estimator:hover label.sk-toggleable__label-arrow:before {color: black;}#sk-container-id-1 div.sk-toggleable__content {max-height: 0;max-width: 0;overflow: hidden;text-align: left;background-color: #f0f8ff;}#sk-container-id-1 div.sk-toggleable__content pre {margin: 0.2em;color: black;border-radius: 0.25em;background-color: #f0f8ff;}#sk-container-id-1 input.sk-toggleable__control:checked~div.sk-toggleable__content {max-height: 200px;max-width: 100%;overflow: auto;}#sk-container-id-1 input.sk-toggleable__control:checked~label.sk-toggleable__label-arrow:before {content: \"▾\";}#sk-container-id-1 div.sk-estimator input.sk-toggleable__control:checked~label.sk-toggleable__label {background-color: #d4ebff;}#sk-container-id-1 div.sk-label input.sk-toggleable__control:checked~label.sk-toggleable__label {background-color: #d4ebff;}#sk-container-id-1 input.sk-hidden--visually {border: 0;clip: rect(1px 1px 1px 1px);clip: rect(1px, 1px, 1px, 1px);height: 1px;margin: -1px;overflow: hidden;padding: 0;position: absolute;width: 1px;}#sk-container-id-1 div.sk-estimator {font-family: monospace;background-color: #f0f8ff;border: 1px dotted black;border-radius: 0.25em;box-sizing: border-box;margin-bottom: 0.5em;}#sk-container-id-1 div.sk-estimator:hover {background-color: #d4ebff;}#sk-container-id-1 div.sk-parallel-item::after {content: \"\";width: 100%;border-bottom: 1px solid gray;flex-grow: 1;}#sk-container-id-1 div.sk-label:hover label.sk-toggleable__label {background-color: #d4ebff;}#sk-container-id-1 div.sk-serial::before {content: \"\";position: absolute;border-left: 1px solid gray;box-sizing: border-box;top: 0;bottom: 0;left: 50%;z-index: 0;}#sk-container-id-1 div.sk-serial {display: flex;flex-direction: column;align-items: center;background-color: white;padding-right: 0.2em;padding-left: 0.2em;position: relative;}#sk-container-id-1 div.sk-item {position: relative;z-index: 1;}#sk-container-id-1 div.sk-parallel {display: flex;align-items: stretch;justify-content: center;background-color: white;position: relative;}#sk-container-id-1 div.sk-item::before, #sk-container-id-1 div.sk-parallel-item::before {content: \"\";position: absolute;border-left: 1px solid gray;box-sizing: border-box;top: 0;bottom: 0;left: 50%;z-index: -1;}#sk-container-id-1 div.sk-parallel-item {display: flex;flex-direction: column;z-index: 1;position: relative;background-color: white;}#sk-container-id-1 div.sk-parallel-item:first-child::after {align-self: flex-end;width: 50%;}#sk-container-id-1 div.sk-parallel-item:last-child::after {align-self: flex-start;width: 50%;}#sk-container-id-1 div.sk-parallel-item:only-child::after {width: 0;}#sk-container-id-1 div.sk-dashed-wrapped {border: 1px dashed gray;margin: 0 0.4em 0.5em 0.4em;box-sizing: border-box;padding-bottom: 0.4em;background-color: white;}#sk-container-id-1 div.sk-label label {font-family: monospace;font-weight: bold;display: inline-block;line-height: 1.2em;}#sk-container-id-1 div.sk-label-container {text-align: center;}#sk-container-id-1 div.sk-container {/* jupyter's `normalize.less` sets `[hidden] { display: none; }` but bootstrap.min.css set `[hidden] { display: none !important; }` so we also need the `!important` here to be able to override the default hidden behavior on the sphinx rendered scikit-learn.org. See: https://github.com/scikit-learn/scikit-learn/issues/21755 */display: inline-block !important;position: relative;}#sk-container-id-1 div.sk-text-repr-fallback {display: none;}</style><div id=\"sk-container-id-1\" class=\"sk-top-container\"><div class=\"sk-text-repr-fallback\"><pre>LinearRegression()</pre><b>In a Jupyter environment, please rerun this cell to show the HTML representation or trust the notebook. <br />On GitHub, the HTML representation is unable to render, please try loading this page with nbviewer.org.</b></div><div class=\"sk-container\" hidden><div class=\"sk-item\"><div class=\"sk-estimator sk-toggleable\"><input class=\"sk-toggleable__control sk-hidden--visually\" id=\"sk-estimator-id-1\" type=\"checkbox\" checked><label for=\"sk-estimator-id-1\" class=\"sk-toggleable__label sk-toggleable__label-arrow\">LinearRegression</label><div class=\"sk-toggleable__content\"><pre>LinearRegression()</pre></div></div></div></div></div>"
      ],
      "text/plain": [
       "LinearRegression()"
      ]
     },
     "execution_count": 25,
     "metadata": {},
     "output_type": "execute_result"
    }
   ],
   "source": [
    "lr.fit(X,y)"
   ]
  },
  {
   "cell_type": "code",
   "execution_count": 26,
   "id": "573d91e5-d1d7-4931-a1f3-d9ea6840ee3c",
   "metadata": {},
   "outputs": [],
   "source": [
    "pred=lr.predict(X)"
   ]
  },
  {
   "cell_type": "code",
   "execution_count": 27,
   "id": "c57be820-102e-420a-8bb6-b9a172535ad4",
   "metadata": {},
   "outputs": [
    {
     "data": {
      "text/plain": [
       "0.6960588973766539"
      ]
     },
     "execution_count": 27,
     "metadata": {},
     "output_type": "execute_result"
    }
   ],
   "source": [
    "r2_score(y,pred)"
   ]
  },
  {
   "cell_type": "code",
   "execution_count": 28,
   "id": "86a5b967-cc5a-446e-aaea-3bbaad59ebcc",
   "metadata": {},
   "outputs": [],
   "source": [
    "valid=pd.read_csv(\"validated.csv\")\n",
    "x1=valid.drop(\"Total_Sales\",axis=1)\n",
    "labels1=kmeans.predict(x1)"
   ]
  },
  {
   "cell_type": "code",
   "execution_count": 29,
   "id": "0208e1a3-b251-4811-941d-0cc34ebb4248",
   "metadata": {},
   "outputs": [],
   "source": [
    "cluster_df_valid=pd.concat([x1,valid[\"Total_Sales\"],pd.DataFrame(labels1,columns=[\"cluster\"])],axis=1)"
   ]
  },
  {
   "cell_type": "code",
   "execution_count": 30,
   "id": "886246cc-f96b-4cca-afb9-075f6a3767a5",
   "metadata": {},
   "outputs": [],
   "source": [
    "df1_valid=cluster_df_valid[cluster_df_valid[\"cluster\"]==0]\n",
    "df1_valid.drop(\"cluster\",axis=1,inplace=True)\n",
    "X1=df1_valid.drop(\"Total_Sales\",axis=1)\n",
    "y1=df1_valid[\"Total_Sales\"]"
   ]
  },
  {
   "cell_type": "code",
   "execution_count": 31,
   "id": "9904267d-ac89-4007-89a2-5298f8868028",
   "metadata": {},
   "outputs": [],
   "source": [
    "pred=lr.predict(X1)"
   ]
  },
  {
   "cell_type": "code",
   "execution_count": 32,
   "id": "dde1144c-335a-4ac2-9840-b9791db7509b",
   "metadata": {},
   "outputs": [],
   "source": [
    "def adj_r2(y_true,y_pred,X,y):\n",
    "    r2_score1=r2_score(y_true=y_true,y_pred=y_pred)\n",
    "    n=X.shape[0]\n",
    "    p=X.shape[1]\n",
    "    formula=1-((1-r2_score1)*(n-1)/(n-p-1))\n",
    "    return formula"
   ]
  },
  {
   "cell_type": "code",
   "execution_count": 33,
   "id": "1837cc97-8df4-4949-970b-83fc92312a39",
   "metadata": {},
   "outputs": [
    {
     "data": {
      "text/plain": [
       "0.7128155411115193"
      ]
     },
     "execution_count": 33,
     "metadata": {},
     "output_type": "execute_result"
    }
   ],
   "source": [
    "r2_score(y1,pred)"
   ]
  },
  {
   "cell_type": "markdown",
   "id": "bc633d2f-e5c4-4dbe-b9cd-80aec6125594",
   "metadata": {
    "jp-MarkdownHeadingCollapsed": true,
    "tags": []
   },
   "source": [
    "### statsmodels"
   ]
  },
  {
   "cell_type": "code",
   "execution_count": 34,
   "id": "37885cbb-c60f-4f57-8854-18af60d7eb3a",
   "metadata": {},
   "outputs": [],
   "source": [
    "#Adding Intercept term to the model\n",
    "X_train=sm.add_constant(X)\n",
    "X_test=sm.add_constant(X1)"
   ]
  },
  {
   "cell_type": "code",
   "execution_count": 35,
   "id": "7d27be5f-7e90-478e-8d8c-17c26015f61c",
   "metadata": {},
   "outputs": [
    {
     "name": "stdout",
     "output_type": "stream",
     "text": [
      "                            OLS Regression Results                            \n",
      "==============================================================================\n",
      "Dep. Variable:                      y   R-squared:                       0.696\n",
      "Model:                            OLS   Adj. R-squared:                  0.695\n",
      "Method:                 Least Squares   F-statistic:                     748.7\n",
      "Date:                Fri, 16 Sep 2022   Prob (F-statistic):               0.00\n",
      "Time:                        08:04:19   Log-Likelihood:                -55282.\n",
      "No. Observations:                3936   AIC:                         1.106e+05\n",
      "Df Residuals:                    3923   BIC:                         1.107e+05\n",
      "Df Model:                          12                                         \n",
      "Covariance Type:            nonrobust                                         \n",
      "=====================================================================================\n",
      "                        coef    std err          t      P>|t|      [0.025      0.975]\n",
      "-------------------------------------------------------------------------------------\n",
      "Food               3.044e+04   1.41e+04      2.157      0.031    2775.643    5.81e+04\n",
      "Religion           1.679e+05   2.14e+04      7.843      0.000    1.26e+05     2.1e+05\n",
      "Temperature        2.169e+04   5396.641      4.019      0.000    1.11e+04    3.23e+04\n",
      "Fuel_Price        -1.083e+04   5316.434     -2.036      0.042   -2.12e+04    -401.868\n",
      "MarkDown1         -7.201e+04   3.59e+04     -2.006      0.045   -1.42e+05   -1616.707\n",
      "MarkDown2         -6.374e+04   3.06e+04     -2.084      0.037   -1.24e+05   -3769.936\n",
      "MarkDown3          2.882e+06   2.09e+05     13.801      0.000    2.47e+06    3.29e+06\n",
      "MarkDown4          6.855e+04   5.91e+04      1.160      0.246   -4.73e+04    1.84e+05\n",
      "MarkDown5         -7.623e+04   2.67e+04     -2.859      0.004   -1.29e+05    -2.4e+04\n",
      "CPI               -4.593e+04   5481.724     -8.379      0.000   -5.67e+04   -3.52e+04\n",
      "Unemployment_Rate -3.098e+04   5383.580     -5.754      0.000   -4.15e+04   -2.04e+04\n",
      "Holiday           -4.229e+06   7.37e+04    -57.389      0.000   -4.37e+06   -4.08e+06\n",
      "Size               4.783e+05   7645.890     62.559      0.000    4.63e+05    4.93e+05\n",
      "==============================================================================\n",
      "Omnibus:                     1200.340   Durbin-Watson:                   1.922\n",
      "Prob(Omnibus):                  0.000   Jarque-Bera (JB):             6010.014\n",
      "Skew:                           1.376   Prob(JB):                         0.00\n",
      "Kurtosis:                       8.392   Cond. No.                         51.9\n",
      "==============================================================================\n",
      "\n",
      "Notes:\n",
      "[1] Standard Errors assume that the covariance matrix of the errors is correctly specified.\n",
      "---------------------------------------------------------------\n",
      "                            OLS Regression Results                            \n",
      "==============================================================================\n",
      "Dep. Variable:                      y   R-squared:                       0.740\n",
      "Model:                            OLS   Adj. R-squared:                  0.737\n",
      "Method:                 Least Squares   F-statistic:                     230.0\n",
      "Date:                Fri, 16 Sep 2022   Prob (F-statistic):          1.94e-273\n",
      "Time:                        08:04:19   Log-Likelihood:                -13692.\n",
      "No. Observations:                 981   AIC:                         2.741e+04\n",
      "Df Residuals:                     968   BIC:                         2.747e+04\n",
      "Df Model:                          12                                         \n",
      "Covariance Type:            nonrobust                                         \n",
      "=====================================================================================\n",
      "                        coef    std err          t      P>|t|      [0.025      0.975]\n",
      "-------------------------------------------------------------------------------------\n",
      "Food               2.614e+04   2.57e+04      1.018      0.309   -2.43e+04    7.65e+04\n",
      "Religion           1.683e+05   3.93e+04      4.280      0.000    9.11e+04    2.45e+05\n",
      "Temperature        2.547e+04   9798.019      2.600      0.009    6243.247    4.47e+04\n",
      "Fuel_Price        -1.809e+04   9807.358     -1.844      0.065   -3.73e+04    1161.004\n",
      "MarkDown1         -4.321e+04   6.85e+04     -0.631      0.528   -1.78e+05    9.12e+04\n",
      "MarkDown2          1.074e+04   6.64e+04      0.162      0.872    -1.2e+05    1.41e+05\n",
      "MarkDown3          4.809e+06   3.47e+05     13.850      0.000    4.13e+06    5.49e+06\n",
      "MarkDown4         -4.946e+04   1.42e+05     -0.348      0.728   -3.28e+05    2.29e+05\n",
      "MarkDown5         -4.976e+04    4.3e+04     -1.158      0.247   -1.34e+05    3.46e+04\n",
      "CPI               -3.949e+04   9877.835     -3.998      0.000   -5.89e+04   -2.01e+04\n",
      "Unemployment_Rate -3.568e+04   9912.514     -3.600      0.000   -5.51e+04   -1.62e+04\n",
      "Holiday           -5.288e+06   1.62e+05    -32.645      0.000   -5.61e+06   -4.97e+06\n",
      "Size               4.674e+05   1.39e+04     33.662      0.000     4.4e+05    4.95e+05\n",
      "==============================================================================\n",
      "Omnibus:                      199.145   Durbin-Watson:                   1.984\n",
      "Prob(Omnibus):                  0.000   Jarque-Bera (JB):              494.405\n",
      "Skew:                           1.071   Prob(JB):                    4.38e-108\n",
      "Kurtosis:                       5.740   Cond. No.                         48.4\n",
      "==============================================================================\n",
      "\n",
      "Notes:\n",
      "[1] Standard Errors assume that the covariance matrix of the errors is correctly specified.\n"
     ]
    },
    {
     "data": {
      "text/html": [
       "<div>\n",
       "<style scoped>\n",
       "    .dataframe tbody tr th:only-of-type {\n",
       "        vertical-align: middle;\n",
       "    }\n",
       "\n",
       "    .dataframe tbody tr th {\n",
       "        vertical-align: top;\n",
       "    }\n",
       "\n",
       "    .dataframe thead th {\n",
       "        text-align: right;\n",
       "    }\n",
       "</style>\n",
       "<table border=\"1\" class=\"dataframe\">\n",
       "  <thead>\n",
       "    <tr style=\"text-align: right;\">\n",
       "      <th></th>\n",
       "      <th>VIF Factor</th>\n",
       "      <th>features</th>\n",
       "    </tr>\n",
       "  </thead>\n",
       "  <tbody>\n",
       "    <tr>\n",
       "      <th>0</th>\n",
       "      <td>2.0</td>\n",
       "      <td>Food</td>\n",
       "    </tr>\n",
       "    <tr>\n",
       "      <th>1</th>\n",
       "      <td>2.6</td>\n",
       "      <td>Religion</td>\n",
       "    </tr>\n",
       "    <tr>\n",
       "      <th>2</th>\n",
       "      <td>1.2</td>\n",
       "      <td>Temperature</td>\n",
       "    </tr>\n",
       "    <tr>\n",
       "      <th>3</th>\n",
       "      <td>1.2</td>\n",
       "      <td>Fuel_Price</td>\n",
       "    </tr>\n",
       "    <tr>\n",
       "      <th>4</th>\n",
       "      <td>3.0</td>\n",
       "      <td>MarkDown1</td>\n",
       "    </tr>\n",
       "    <tr>\n",
       "      <th>5</th>\n",
       "      <td>1.1</td>\n",
       "      <td>MarkDown2</td>\n",
       "    </tr>\n",
       "    <tr>\n",
       "      <th>6</th>\n",
       "      <td>1.2</td>\n",
       "      <td>MarkDown3</td>\n",
       "    </tr>\n",
       "    <tr>\n",
       "      <th>7</th>\n",
       "      <td>2.1</td>\n",
       "      <td>MarkDown4</td>\n",
       "    </tr>\n",
       "    <tr>\n",
       "      <th>8</th>\n",
       "      <td>2.2</td>\n",
       "      <td>MarkDown5</td>\n",
       "    </tr>\n",
       "    <tr>\n",
       "      <th>9</th>\n",
       "      <td>1.3</td>\n",
       "      <td>CPI</td>\n",
       "    </tr>\n",
       "    <tr>\n",
       "      <th>10</th>\n",
       "      <td>1.2</td>\n",
       "      <td>Unemployment_Rate</td>\n",
       "    </tr>\n",
       "    <tr>\n",
       "      <th>11</th>\n",
       "      <td>17.5</td>\n",
       "      <td>Holiday</td>\n",
       "    </tr>\n",
       "    <tr>\n",
       "      <th>12</th>\n",
       "      <td>2.5</td>\n",
       "      <td>Size</td>\n",
       "    </tr>\n",
       "  </tbody>\n",
       "</table>\n",
       "</div>"
      ],
      "text/plain": [
       "    VIF Factor           features\n",
       "0          2.0               Food\n",
       "1          2.6           Religion\n",
       "2          1.2        Temperature\n",
       "3          1.2         Fuel_Price\n",
       "4          3.0          MarkDown1\n",
       "5          1.1          MarkDown2\n",
       "6          1.2          MarkDown3\n",
       "7          2.1          MarkDown4\n",
       "8          2.2          MarkDown5\n",
       "9          1.3                CPI\n",
       "10         1.2  Unemployment_Rate\n",
       "11        17.5            Holiday\n",
       "12         2.5               Size"
      ]
     },
     "execution_count": 35,
     "metadata": {},
     "output_type": "execute_result"
    }
   ],
   "source": [
    "#Converting into Dataframe\n",
    "X_train_d=pd.DataFrame(X)\n",
    "\n",
    "\n",
    "#Printing the Model Statistics\n",
    "model_train = sm.OLS(y.values.reshape(-1,1),X_train).fit()\n",
    "print(model_train.summary())\n",
    "print(\"---------------------------------------------------------------\")\n",
    "\n",
    "model_test= sm.OLS(y1.values.reshape(-1,1),X_test).fit()\n",
    "print(model_test.summary())\n",
    "\n",
    "\n",
    "\n",
    "#Checking the VIF Value\n",
    "\n",
    "from statsmodels.stats.outliers_influence import variance_inflation_factor\n",
    "vif = pd.DataFrame()\n",
    "vif[\"VIF Factor\"] =[variance_inflation_factor(X_train_d.values, j) for j in range(X_train_d.shape[1])]\n",
    "vif[\"features\"] = X_train_d.columns\n",
    "vif.round(1)"
   ]
  },
  {
   "cell_type": "markdown",
   "id": "10ff330d-f6da-46ef-95a2-333d4e727379",
   "metadata": {
    "tags": []
   },
   "source": [
    "### LASSO"
   ]
  },
  {
   "cell_type": "code",
   "execution_count": 36,
   "id": "3f1c3782-4b32-4e4c-888b-76bbf8e9065e",
   "metadata": {},
   "outputs": [
    {
     "data": {
      "text/html": [
       "<style>#sk-container-id-2 {color: black;background-color: white;}#sk-container-id-2 pre{padding: 0;}#sk-container-id-2 div.sk-toggleable {background-color: white;}#sk-container-id-2 label.sk-toggleable__label {cursor: pointer;display: block;width: 100%;margin-bottom: 0;padding: 0.3em;box-sizing: border-box;text-align: center;}#sk-container-id-2 label.sk-toggleable__label-arrow:before {content: \"▸\";float: left;margin-right: 0.25em;color: #696969;}#sk-container-id-2 label.sk-toggleable__label-arrow:hover:before {color: black;}#sk-container-id-2 div.sk-estimator:hover label.sk-toggleable__label-arrow:before {color: black;}#sk-container-id-2 div.sk-toggleable__content {max-height: 0;max-width: 0;overflow: hidden;text-align: left;background-color: #f0f8ff;}#sk-container-id-2 div.sk-toggleable__content pre {margin: 0.2em;color: black;border-radius: 0.25em;background-color: #f0f8ff;}#sk-container-id-2 input.sk-toggleable__control:checked~div.sk-toggleable__content {max-height: 200px;max-width: 100%;overflow: auto;}#sk-container-id-2 input.sk-toggleable__control:checked~label.sk-toggleable__label-arrow:before {content: \"▾\";}#sk-container-id-2 div.sk-estimator input.sk-toggleable__control:checked~label.sk-toggleable__label {background-color: #d4ebff;}#sk-container-id-2 div.sk-label input.sk-toggleable__control:checked~label.sk-toggleable__label {background-color: #d4ebff;}#sk-container-id-2 input.sk-hidden--visually {border: 0;clip: rect(1px 1px 1px 1px);clip: rect(1px, 1px, 1px, 1px);height: 1px;margin: -1px;overflow: hidden;padding: 0;position: absolute;width: 1px;}#sk-container-id-2 div.sk-estimator {font-family: monospace;background-color: #f0f8ff;border: 1px dotted black;border-radius: 0.25em;box-sizing: border-box;margin-bottom: 0.5em;}#sk-container-id-2 div.sk-estimator:hover {background-color: #d4ebff;}#sk-container-id-2 div.sk-parallel-item::after {content: \"\";width: 100%;border-bottom: 1px solid gray;flex-grow: 1;}#sk-container-id-2 div.sk-label:hover label.sk-toggleable__label {background-color: #d4ebff;}#sk-container-id-2 div.sk-serial::before {content: \"\";position: absolute;border-left: 1px solid gray;box-sizing: border-box;top: 0;bottom: 0;left: 50%;z-index: 0;}#sk-container-id-2 div.sk-serial {display: flex;flex-direction: column;align-items: center;background-color: white;padding-right: 0.2em;padding-left: 0.2em;position: relative;}#sk-container-id-2 div.sk-item {position: relative;z-index: 1;}#sk-container-id-2 div.sk-parallel {display: flex;align-items: stretch;justify-content: center;background-color: white;position: relative;}#sk-container-id-2 div.sk-item::before, #sk-container-id-2 div.sk-parallel-item::before {content: \"\";position: absolute;border-left: 1px solid gray;box-sizing: border-box;top: 0;bottom: 0;left: 50%;z-index: -1;}#sk-container-id-2 div.sk-parallel-item {display: flex;flex-direction: column;z-index: 1;position: relative;background-color: white;}#sk-container-id-2 div.sk-parallel-item:first-child::after {align-self: flex-end;width: 50%;}#sk-container-id-2 div.sk-parallel-item:last-child::after {align-self: flex-start;width: 50%;}#sk-container-id-2 div.sk-parallel-item:only-child::after {width: 0;}#sk-container-id-2 div.sk-dashed-wrapped {border: 1px dashed gray;margin: 0 0.4em 0.5em 0.4em;box-sizing: border-box;padding-bottom: 0.4em;background-color: white;}#sk-container-id-2 div.sk-label label {font-family: monospace;font-weight: bold;display: inline-block;line-height: 1.2em;}#sk-container-id-2 div.sk-label-container {text-align: center;}#sk-container-id-2 div.sk-container {/* jupyter's `normalize.less` sets `[hidden] { display: none; }` but bootstrap.min.css set `[hidden] { display: none !important; }` so we also need the `!important` here to be able to override the default hidden behavior on the sphinx rendered scikit-learn.org. See: https://github.com/scikit-learn/scikit-learn/issues/21755 */display: inline-block !important;position: relative;}#sk-container-id-2 div.sk-text-repr-fallback {display: none;}</style><div id=\"sk-container-id-2\" class=\"sk-top-container\"><div class=\"sk-text-repr-fallback\"><pre>LassoCV(cv=10, max_iter=100000, normalize=True)</pre><b>In a Jupyter environment, please rerun this cell to show the HTML representation or trust the notebook. <br />On GitHub, the HTML representation is unable to render, please try loading this page with nbviewer.org.</b></div><div class=\"sk-container\" hidden><div class=\"sk-item\"><div class=\"sk-estimator sk-toggleable\"><input class=\"sk-toggleable__control sk-hidden--visually\" id=\"sk-estimator-id-2\" type=\"checkbox\" checked><label for=\"sk-estimator-id-2\" class=\"sk-toggleable__label sk-toggleable__label-arrow\">LassoCV</label><div class=\"sk-toggleable__content\"><pre>LassoCV(cv=10, max_iter=100000, normalize=True)</pre></div></div></div></div></div>"
      ],
      "text/plain": [
       "LassoCV(cv=10, max_iter=100000, normalize=True)"
      ]
     },
     "execution_count": 36,
     "metadata": {},
     "output_type": "execute_result"
    }
   ],
   "source": [
    "# Lasso Regularization\n",
    "# LassoCV will return best alpha and coefficients after performing 10 cross validations\n",
    "lasscv = LassoCV(alphas = None,cv =10, max_iter = 100000, normalize = True)\n",
    "lasscv.fit(X, y)"
   ]
  },
  {
   "cell_type": "code",
   "execution_count": 37,
   "id": "bf52cc75-ce0e-4a26-8e62-5c4ae71a8cff",
   "metadata": {},
   "outputs": [
    {
     "data": {
      "text/plain": [
       "7.190811525911301"
      ]
     },
     "execution_count": 37,
     "metadata": {},
     "output_type": "execute_result"
    }
   ],
   "source": [
    "# best alpha parameter\n",
    "alpha = lasscv.alpha_\n",
    "alpha"
   ]
  },
  {
   "cell_type": "code",
   "execution_count": 38,
   "id": "a769a439-c04f-4bb7-a665-0c71d04a36bc",
   "metadata": {},
   "outputs": [
    {
     "data": {
      "text/html": [
       "<style>#sk-container-id-3 {color: black;background-color: white;}#sk-container-id-3 pre{padding: 0;}#sk-container-id-3 div.sk-toggleable {background-color: white;}#sk-container-id-3 label.sk-toggleable__label {cursor: pointer;display: block;width: 100%;margin-bottom: 0;padding: 0.3em;box-sizing: border-box;text-align: center;}#sk-container-id-3 label.sk-toggleable__label-arrow:before {content: \"▸\";float: left;margin-right: 0.25em;color: #696969;}#sk-container-id-3 label.sk-toggleable__label-arrow:hover:before {color: black;}#sk-container-id-3 div.sk-estimator:hover label.sk-toggleable__label-arrow:before {color: black;}#sk-container-id-3 div.sk-toggleable__content {max-height: 0;max-width: 0;overflow: hidden;text-align: left;background-color: #f0f8ff;}#sk-container-id-3 div.sk-toggleable__content pre {margin: 0.2em;color: black;border-radius: 0.25em;background-color: #f0f8ff;}#sk-container-id-3 input.sk-toggleable__control:checked~div.sk-toggleable__content {max-height: 200px;max-width: 100%;overflow: auto;}#sk-container-id-3 input.sk-toggleable__control:checked~label.sk-toggleable__label-arrow:before {content: \"▾\";}#sk-container-id-3 div.sk-estimator input.sk-toggleable__control:checked~label.sk-toggleable__label {background-color: #d4ebff;}#sk-container-id-3 div.sk-label input.sk-toggleable__control:checked~label.sk-toggleable__label {background-color: #d4ebff;}#sk-container-id-3 input.sk-hidden--visually {border: 0;clip: rect(1px 1px 1px 1px);clip: rect(1px, 1px, 1px, 1px);height: 1px;margin: -1px;overflow: hidden;padding: 0;position: absolute;width: 1px;}#sk-container-id-3 div.sk-estimator {font-family: monospace;background-color: #f0f8ff;border: 1px dotted black;border-radius: 0.25em;box-sizing: border-box;margin-bottom: 0.5em;}#sk-container-id-3 div.sk-estimator:hover {background-color: #d4ebff;}#sk-container-id-3 div.sk-parallel-item::after {content: \"\";width: 100%;border-bottom: 1px solid gray;flex-grow: 1;}#sk-container-id-3 div.sk-label:hover label.sk-toggleable__label {background-color: #d4ebff;}#sk-container-id-3 div.sk-serial::before {content: \"\";position: absolute;border-left: 1px solid gray;box-sizing: border-box;top: 0;bottom: 0;left: 50%;z-index: 0;}#sk-container-id-3 div.sk-serial {display: flex;flex-direction: column;align-items: center;background-color: white;padding-right: 0.2em;padding-left: 0.2em;position: relative;}#sk-container-id-3 div.sk-item {position: relative;z-index: 1;}#sk-container-id-3 div.sk-parallel {display: flex;align-items: stretch;justify-content: center;background-color: white;position: relative;}#sk-container-id-3 div.sk-item::before, #sk-container-id-3 div.sk-parallel-item::before {content: \"\";position: absolute;border-left: 1px solid gray;box-sizing: border-box;top: 0;bottom: 0;left: 50%;z-index: -1;}#sk-container-id-3 div.sk-parallel-item {display: flex;flex-direction: column;z-index: 1;position: relative;background-color: white;}#sk-container-id-3 div.sk-parallel-item:first-child::after {align-self: flex-end;width: 50%;}#sk-container-id-3 div.sk-parallel-item:last-child::after {align-self: flex-start;width: 50%;}#sk-container-id-3 div.sk-parallel-item:only-child::after {width: 0;}#sk-container-id-3 div.sk-dashed-wrapped {border: 1px dashed gray;margin: 0 0.4em 0.5em 0.4em;box-sizing: border-box;padding-bottom: 0.4em;background-color: white;}#sk-container-id-3 div.sk-label label {font-family: monospace;font-weight: bold;display: inline-block;line-height: 1.2em;}#sk-container-id-3 div.sk-label-container {text-align: center;}#sk-container-id-3 div.sk-container {/* jupyter's `normalize.less` sets `[hidden] { display: none; }` but bootstrap.min.css set `[hidden] { display: none !important; }` so we also need the `!important` here to be able to override the default hidden behavior on the sphinx rendered scikit-learn.org. See: https://github.com/scikit-learn/scikit-learn/issues/21755 */display: inline-block !important;position: relative;}#sk-container-id-3 div.sk-text-repr-fallback {display: none;}</style><div id=\"sk-container-id-3\" class=\"sk-top-container\"><div class=\"sk-text-repr-fallback\"><pre>Lasso(alpha=7.190811525911301)</pre><b>In a Jupyter environment, please rerun this cell to show the HTML representation or trust the notebook. <br />On GitHub, the HTML representation is unable to render, please try loading this page with nbviewer.org.</b></div><div class=\"sk-container\" hidden><div class=\"sk-item\"><div class=\"sk-estimator sk-toggleable\"><input class=\"sk-toggleable__control sk-hidden--visually\" id=\"sk-estimator-id-3\" type=\"checkbox\" checked><label for=\"sk-estimator-id-3\" class=\"sk-toggleable__label sk-toggleable__label-arrow\">Lasso</label><div class=\"sk-toggleable__content\"><pre>Lasso(alpha=7.190811525911301)</pre></div></div></div></div></div>"
      ],
      "text/plain": [
       "Lasso(alpha=7.190811525911301)"
      ]
     },
     "execution_count": 38,
     "metadata": {},
     "output_type": "execute_result"
    }
   ],
   "source": [
    "#now that we have best parameter, let's use Lasso regression and see how well our data has fitted before\n",
    "lasso_reg = Lasso(alpha)\n",
    "lasso_reg.fit(X, y)"
   ]
  },
  {
   "cell_type": "code",
   "execution_count": 39,
   "id": "96d915d8-4a58-4b61-81a3-6c3f1ebbc707",
   "metadata": {},
   "outputs": [],
   "source": [
    "prediction_lasso=lasso_reg.predict(X)"
   ]
  },
  {
   "cell_type": "code",
   "execution_count": 40,
   "id": "72cebf6a-67a7-49a3-9dee-d029bb1339d1",
   "metadata": {},
   "outputs": [
    {
     "data": {
      "text/plain": [
       "0.6960584887756327"
      ]
     },
     "execution_count": 40,
     "metadata": {},
     "output_type": "execute_result"
    }
   ],
   "source": [
    "r2_score(y,prediction_lasso)"
   ]
  },
  {
   "cell_type": "code",
   "execution_count": 41,
   "id": "3576bbc3-14a9-42cf-ac82-e10758c5c65e",
   "metadata": {},
   "outputs": [],
   "source": [
    "prediction_lasso_valid=lasso_reg.predict(X1)"
   ]
  },
  {
   "cell_type": "code",
   "execution_count": 42,
   "id": "e374e807-6136-45bc-9100-693f46a992e8",
   "metadata": {},
   "outputs": [
    {
     "data": {
      "text/plain": [
       "0.7128285853392697"
      ]
     },
     "execution_count": 42,
     "metadata": {},
     "output_type": "execute_result"
    }
   ],
   "source": [
    "r2_score(y1,prediction_lasso_valid)"
   ]
  },
  {
   "cell_type": "code",
   "execution_count": 43,
   "id": "35828a2c-6093-49b7-9404-11c03a12eea7",
   "metadata": {},
   "outputs": [
    {
     "data": {
      "text/plain": [
       "<AxesSubplot:xlabel='Total_Sales', ylabel='Density'>"
      ]
     },
     "execution_count": 43,
     "metadata": {},
     "output_type": "execute_result"
    },
    {
     "data": {
      "image/png": "[encoded data removed]",
      "text/plain": [
       "<Figure size 640x480 with 1 Axes>"
      ]
     },
     "metadata": {},
     "output_type": "display_data"
    }
   ],
   "source": [
    "#errors are normally distributed\n",
    "import seaborn as sns\n",
    "\n",
    "sns.distplot(y1-prediction_lasso_valid)"
   ]
  },
  {
   "cell_type": "markdown",
   "id": "5ccc17c8-f3bf-45a3-811d-346fc8df3edc",
   "metadata": {
    "tags": []
   },
   "source": [
    "### RIDGE"
   ]
  },
  {
   "cell_type": "code",
   "execution_count": 44,
   "id": "4a99eb45-0002-4789-b08e-e71a4cd83864",
   "metadata": {},
   "outputs": [
    {
     "data": {
      "text/html": [
       "<style>#sk-container-id-4 {color: black;background-color: white;}#sk-container-id-4 pre{padding: 0;}#sk-container-id-4 div.sk-toggleable {background-color: white;}#sk-container-id-4 label.sk-toggleable__label {cursor: pointer;display: block;width: 100%;margin-bottom: 0;padding: 0.3em;box-sizing: border-box;text-align: center;}#sk-container-id-4 label.sk-toggleable__label-arrow:before {content: \"▸\";float: left;margin-right: 0.25em;color: #696969;}#sk-container-id-4 label.sk-toggleable__label-arrow:hover:before {color: black;}#sk-container-id-4 div.sk-estimator:hover label.sk-toggleable__label-arrow:before {color: black;}#sk-container-id-4 div.sk-toggleable__content {max-height: 0;max-width: 0;overflow: hidden;text-align: left;background-color: #f0f8ff;}#sk-container-id-4 div.sk-toggleable__content pre {margin: 0.2em;color: black;border-radius: 0.25em;background-color: #f0f8ff;}#sk-container-id-4 input.sk-toggleable__control:checked~div.sk-toggleable__content {max-height: 200px;max-width: 100%;overflow: auto;}#sk-container-id-4 input.sk-toggleable__control:checked~label.sk-toggleable__label-arrow:before {content: \"▾\";}#sk-container-id-4 div.sk-estimator input.sk-toggleable__control:checked~label.sk-toggleable__label {background-color: #d4ebff;}#sk-container-id-4 div.sk-label input.sk-toggleable__control:checked~label.sk-toggleable__label {background-color: #d4ebff;}#sk-container-id-4 input.sk-hidden--visually {border: 0;clip: rect(1px 1px 1px 1px);clip: rect(1px, 1px, 1px, 1px);height: 1px;margin: -1px;overflow: hidden;padding: 0;position: absolute;width: 1px;}#sk-container-id-4 div.sk-estimator {font-family: monospace;background-color: #f0f8ff;border: 1px dotted black;border-radius: 0.25em;box-sizing: border-box;margin-bottom: 0.5em;}#sk-container-id-4 div.sk-estimator:hover {background-color: #d4ebff;}#sk-container-id-4 div.sk-parallel-item::after {content: \"\";width: 100%;border-bottom: 1px solid gray;flex-grow: 1;}#sk-container-id-4 div.sk-label:hover label.sk-toggleable__label {background-color: #d4ebff;}#sk-container-id-4 div.sk-serial::before {content: \"\";position: absolute;border-left: 1px solid gray;box-sizing: border-box;top: 0;bottom: 0;left: 50%;z-index: 0;}#sk-container-id-4 div.sk-serial {display: flex;flex-direction: column;align-items: center;background-color: white;padding-right: 0.2em;padding-left: 0.2em;position: relative;}#sk-container-id-4 div.sk-item {position: relative;z-index: 1;}#sk-container-id-4 div.sk-parallel {display: flex;align-items: stretch;justify-content: center;background-color: white;position: relative;}#sk-container-id-4 div.sk-item::before, #sk-container-id-4 div.sk-parallel-item::before {content: \"\";position: absolute;border-left: 1px solid gray;box-sizing: border-box;top: 0;bottom: 0;left: 50%;z-index: -1;}#sk-container-id-4 div.sk-parallel-item {display: flex;flex-direction: column;z-index: 1;position: relative;background-color: white;}#sk-container-id-4 div.sk-parallel-item:first-child::after {align-self: flex-end;width: 50%;}#sk-container-id-4 div.sk-parallel-item:last-child::after {align-self: flex-start;width: 50%;}#sk-container-id-4 div.sk-parallel-item:only-child::after {width: 0;}#sk-container-id-4 div.sk-dashed-wrapped {border: 1px dashed gray;margin: 0 0.4em 0.5em 0.4em;box-sizing: border-box;padding-bottom: 0.4em;background-color: white;}#sk-container-id-4 div.sk-label label {font-family: monospace;font-weight: bold;display: inline-block;line-height: 1.2em;}#sk-container-id-4 div.sk-label-container {text-align: center;}#sk-container-id-4 div.sk-container {/* jupyter's `normalize.less` sets `[hidden] { display: none; }` but bootstrap.min.css set `[hidden] { display: none !important; }` so we also need the `!important` here to be able to override the default hidden behavior on the sphinx rendered scikit-learn.org. See: https://github.com/scikit-learn/scikit-learn/issues/21755 */display: inline-block !important;position: relative;}#sk-container-id-4 div.sk-text-repr-fallback {display: none;}</style><div id=\"sk-container-id-4\" class=\"sk-top-container\"><div class=\"sk-text-repr-fallback\"><pre>RidgeCV(alphas=array([3.60627371, 3.94584594, 3.64222797, 7.77386687, 5.534881  ,\n",
       "       7.63463364, 7.34920711, 5.76008847, 5.34575168, 6.23841878,\n",
       "       2.07941963, 4.78853739, 8.12447938, 7.814947  , 3.79160659,\n",
       "       7.61889345, 1.67463105, 5.88151507, 6.73192768, 4.25059572,\n",
       "       7.27539153, 6.64024047, 3.62713549, 4.3642128 , 7.20726145,\n",
       "       8.71289413, 9.68101106, 2.7764285 , 5.47106749, 7.6143333 ,\n",
       "       7.92843453, 0.20788724, 0.75760482, 2.72779332, 4.78284475,\n",
       "       8.60386286, 2.89765026, 7.52011479, 3.68598202, 1.45271173,\n",
       "       8.43942587, 7.82052651, 7.30535461, 7.02141673, 1.05906905,\n",
       "       0.13678643, 7.2993222 , 5.74042146, 3.76327944, 8.88768959]),\n",
       "        cv=10, normalize=True)</pre><b>In a Jupyter environment, please rerun this cell to show the HTML representation or trust the notebook. <br />On GitHub, the HTML representation is unable to render, please try loading this page with nbviewer.org.</b></div><div class=\"sk-container\" hidden><div class=\"sk-item\"><div class=\"sk-estimator sk-toggleable\"><input class=\"sk-toggleable__control sk-hidden--visually\" id=\"sk-estimator-id-4\" type=\"checkbox\" checked><label for=\"sk-estimator-id-4\" class=\"sk-toggleable__label sk-toggleable__label-arrow\">RidgeCV</label><div class=\"sk-toggleable__content\"><pre>RidgeCV(alphas=array([3.60627371, 3.94584594, 3.64222797, 7.77386687, 5.534881  ,\n",
       "       7.63463364, 7.34920711, 5.76008847, 5.34575168, 6.23841878,\n",
       "       2.07941963, 4.78853739, 8.12447938, 7.814947  , 3.79160659,\n",
       "       7.61889345, 1.67463105, 5.88151507, 6.73192768, 4.25059572,\n",
       "       7.27539153, 6.64024047, 3.62713549, 4.3642128 , 7.20726145,\n",
       "       8.71289413, 9.68101106, 2.7764285 , 5.47106749, 7.6143333 ,\n",
       "       7.92843453, 0.20788724, 0.75760482, 2.72779332, 4.78284475,\n",
       "       8.60386286, 2.89765026, 7.52011479, 3.68598202, 1.45271173,\n",
       "       8.43942587, 7.82052651, 7.30535461, 7.02141673, 1.05906905,\n",
       "       0.13678643, 7.2993222 , 5.74042146, 3.76327944, 8.88768959]),\n",
       "        cv=10, normalize=True)</pre></div></div></div></div></div>"
      ],
      "text/plain": [
       "RidgeCV(alphas=array([3.60627371, 3.94584594, 3.64222797, 7.77386687, 5.534881  ,\n",
       "       7.63463364, 7.34920711, 5.76008847, 5.34575168, 6.23841878,\n",
       "       2.07941963, 4.78853739, 8.12447938, 7.814947  , 3.79160659,\n",
       "       7.61889345, 1.67463105, 5.88151507, 6.73192768, 4.25059572,\n",
       "       7.27539153, 6.64024047, 3.62713549, 4.3642128 , 7.20726145,\n",
       "       8.71289413, 9.68101106, 2.7764285 , 5.47106749, 7.6143333 ,\n",
       "       7.92843453, 0.20788724, 0.75760482, 2.72779332, 4.78284475,\n",
       "       8.60386286, 2.89765026, 7.52011479, 3.68598202, 1.45271173,\n",
       "       8.43942587, 7.82052651, 7.30535461, 7.02141673, 1.05906905,\n",
       "       0.13678643, 7.2993222 , 5.74042146, 3.76327944, 8.88768959]),\n",
       "        cv=10, normalize=True)"
      ]
     },
     "execution_count": 44,
     "metadata": {},
     "output_type": "execute_result"
    }
   ],
   "source": [
    "alphas = np.random.uniform(low=0, high=10, size=(50,))\n",
    "ridgecv = RidgeCV(alphas = alphas,cv=10,normalize = True)\n",
    "ridgecv.fit(X, y)"
   ]
  },
  {
   "cell_type": "code",
   "execution_count": 45,
   "id": "3f32eb4b-5b1c-4ea7-a260-a3f5fd4b5c12",
   "metadata": {},
   "outputs": [],
   "source": [
    "prediction_ridge=ridgecv.predict(X)"
   ]
  },
  {
   "cell_type": "code",
   "execution_count": 46,
   "id": "3324268d-15ab-4c68-8599-7019b4dc05f6",
   "metadata": {},
   "outputs": [
    {
     "data": {
      "text/plain": [
       "0.6785728749262248"
      ]
     },
     "execution_count": 46,
     "metadata": {},
     "output_type": "execute_result"
    }
   ],
   "source": [
    "r2_score(y,prediction_ridge)"
   ]
  },
  {
   "cell_type": "code",
   "execution_count": 47,
   "id": "7845cf9f-698a-45e1-98bd-22dc08612920",
   "metadata": {},
   "outputs": [],
   "source": [
    "prediction_ridge_valid=ridgecv.predict(X1)"
   ]
  },
  {
   "cell_type": "code",
   "execution_count": 48,
   "id": "1efc5fba-a3b6-4d9e-8976-986d78ded888",
   "metadata": {},
   "outputs": [
    {
     "data": {
      "text/plain": [
       "0.6974352212592256"
      ]
     },
     "execution_count": 48,
     "metadata": {},
     "output_type": "execute_result"
    }
   ],
   "source": [
    "r2_score(y1,prediction_ridge_valid)"
   ]
  },
  {
   "cell_type": "markdown",
   "id": "e08556fe-581d-4f24-92fc-fc63e686c302",
   "metadata": {
    "tags": []
   },
   "source": [
    "### Elastic Net"
   ]
  },
  {
   "cell_type": "code",
   "execution_count": 49,
   "id": "943000db-2bf9-42c4-aa57-5a872fc50a60",
   "metadata": {},
   "outputs": [
    {
     "data": {
      "text/html": [
       "<style>#sk-container-id-5 {color: black;background-color: white;}#sk-container-id-5 pre{padding: 0;}#sk-container-id-5 div.sk-toggleable {background-color: white;}#sk-container-id-5 label.sk-toggleable__label {cursor: pointer;display: block;width: 100%;margin-bottom: 0;padding: 0.3em;box-sizing: border-box;text-align: center;}#sk-container-id-5 label.sk-toggleable__label-arrow:before {content: \"▸\";float: left;margin-right: 0.25em;color: #696969;}#sk-container-id-5 label.sk-toggleable__label-arrow:hover:before {color: black;}#sk-container-id-5 div.sk-estimator:hover label.sk-toggleable__label-arrow:before {color: black;}#sk-container-id-5 div.sk-toggleable__content {max-height: 0;max-width: 0;overflow: hidden;text-align: left;background-color: #f0f8ff;}#sk-container-id-5 div.sk-toggleable__content pre {margin: 0.2em;color: black;border-radius: 0.25em;background-color: #f0f8ff;}#sk-container-id-5 input.sk-toggleable__control:checked~div.sk-toggleable__content {max-height: 200px;max-width: 100%;overflow: auto;}#sk-container-id-5 input.sk-toggleable__control:checked~label.sk-toggleable__label-arrow:before {content: \"▾\";}#sk-container-id-5 div.sk-estimator input.sk-toggleable__control:checked~label.sk-toggleable__label {background-color: #d4ebff;}#sk-container-id-5 div.sk-label input.sk-toggleable__control:checked~label.sk-toggleable__label {background-color: #d4ebff;}#sk-container-id-5 input.sk-hidden--visually {border: 0;clip: rect(1px 1px 1px 1px);clip: rect(1px, 1px, 1px, 1px);height: 1px;margin: -1px;overflow: hidden;padding: 0;position: absolute;width: 1px;}#sk-container-id-5 div.sk-estimator {font-family: monospace;background-color: #f0f8ff;border: 1px dotted black;border-radius: 0.25em;box-sizing: border-box;margin-bottom: 0.5em;}#sk-container-id-5 div.sk-estimator:hover {background-color: #d4ebff;}#sk-container-id-5 div.sk-parallel-item::after {content: \"\";width: 100%;border-bottom: 1px solid gray;flex-grow: 1;}#sk-container-id-5 div.sk-label:hover label.sk-toggleable__label {background-color: #d4ebff;}#sk-container-id-5 div.sk-serial::before {content: \"\";position: absolute;border-left: 1px solid gray;box-sizing: border-box;top: 0;bottom: 0;left: 50%;z-index: 0;}#sk-container-id-5 div.sk-serial {display: flex;flex-direction: column;align-items: center;background-color: white;padding-right: 0.2em;padding-left: 0.2em;position: relative;}#sk-container-id-5 div.sk-item {position: relative;z-index: 1;}#sk-container-id-5 div.sk-parallel {display: flex;align-items: stretch;justify-content: center;background-color: white;position: relative;}#sk-container-id-5 div.sk-item::before, #sk-container-id-5 div.sk-parallel-item::before {content: \"\";position: absolute;border-left: 1px solid gray;box-sizing: border-box;top: 0;bottom: 0;left: 50%;z-index: -1;}#sk-container-id-5 div.sk-parallel-item {display: flex;flex-direction: column;z-index: 1;position: relative;background-color: white;}#sk-container-id-5 div.sk-parallel-item:first-child::after {align-self: flex-end;width: 50%;}#sk-container-id-5 div.sk-parallel-item:last-child::after {align-self: flex-start;width: 50%;}#sk-container-id-5 div.sk-parallel-item:only-child::after {width: 0;}#sk-container-id-5 div.sk-dashed-wrapped {border: 1px dashed gray;margin: 0 0.4em 0.5em 0.4em;box-sizing: border-box;padding-bottom: 0.4em;background-color: white;}#sk-container-id-5 div.sk-label label {font-family: monospace;font-weight: bold;display: inline-block;line-height: 1.2em;}#sk-container-id-5 div.sk-label-container {text-align: center;}#sk-container-id-5 div.sk-container {/* jupyter's `normalize.less` sets `[hidden] { display: none; }` but bootstrap.min.css set `[hidden] { display: none !important; }` so we also need the `!important` here to be able to override the default hidden behavior on the sphinx rendered scikit-learn.org. See: https://github.com/scikit-learn/scikit-learn/issues/21755 */display: inline-block !important;position: relative;}#sk-container-id-5 div.sk-text-repr-fallback {display: none;}</style><div id=\"sk-container-id-5\" class=\"sk-top-container\"><div class=\"sk-text-repr-fallback\"><pre>ElasticNetCV(cv=10)</pre><b>In a Jupyter environment, please rerun this cell to show the HTML representation or trust the notebook. <br />On GitHub, the HTML representation is unable to render, please try loading this page with nbviewer.org.</b></div><div class=\"sk-container\" hidden><div class=\"sk-item\"><div class=\"sk-estimator sk-toggleable\"><input class=\"sk-toggleable__control sk-hidden--visually\" id=\"sk-estimator-id-5\" type=\"checkbox\" checked><label for=\"sk-estimator-id-5\" class=\"sk-toggleable__label sk-toggleable__label-arrow\">ElasticNetCV</label><div class=\"sk-toggleable__content\"><pre>ElasticNetCV(cv=10)</pre></div></div></div></div></div>"
      ],
      "text/plain": [
       "ElasticNetCV(cv=10)"
      ]
     },
     "execution_count": 49,
     "metadata": {},
     "output_type": "execute_result"
    }
   ],
   "source": [
    "# Elastic net\n",
    "\n",
    "elasticCV = ElasticNetCV(alphas = None, cv =10)\n",
    "\n",
    "elasticCV.fit(X, y)"
   ]
  },
  {
   "cell_type": "code",
   "execution_count": 50,
   "id": "14d14ebb-c6e4-4730-aacc-19d1c3b54a68",
   "metadata": {},
   "outputs": [
    {
     "data": {
      "text/plain": [
       "910.7750762883863"
      ]
     },
     "execution_count": 50,
     "metadata": {},
     "output_type": "execute_result"
    }
   ],
   "source": [
    "elasticCV.alpha_"
   ]
  },
  {
   "cell_type": "code",
   "execution_count": 51,
   "id": "b87d01e9-cece-4efd-94e3-df961975c777",
   "metadata": {},
   "outputs": [
    {
     "data": {
      "text/plain": [
       "0.5"
      ]
     },
     "execution_count": 51,
     "metadata": {},
     "output_type": "execute_result"
    }
   ],
   "source": [
    "elasticCV.l1_ratio"
   ]
  },
  {
   "cell_type": "code",
   "execution_count": 52,
   "id": "df8db1c9-7c9b-4b6c-9b84-ef211b8c723a",
   "metadata": {},
   "outputs": [
    {
     "data": {
      "text/html": [
       "<style>#sk-container-id-6 {color: black;background-color: white;}#sk-container-id-6 pre{padding: 0;}#sk-container-id-6 div.sk-toggleable {background-color: white;}#sk-container-id-6 label.sk-toggleable__label {cursor: pointer;display: block;width: 100%;margin-bottom: 0;padding: 0.3em;box-sizing: border-box;text-align: center;}#sk-container-id-6 label.sk-toggleable__label-arrow:before {content: \"▸\";float: left;margin-right: 0.25em;color: #696969;}#sk-container-id-6 label.sk-toggleable__label-arrow:hover:before {color: black;}#sk-container-id-6 div.sk-estimator:hover label.sk-toggleable__label-arrow:before {color: black;}#sk-container-id-6 div.sk-toggleable__content {max-height: 0;max-width: 0;overflow: hidden;text-align: left;background-color: #f0f8ff;}#sk-container-id-6 div.sk-toggleable__content pre {margin: 0.2em;color: black;border-radius: 0.25em;background-color: #f0f8ff;}#sk-container-id-6 input.sk-toggleable__control:checked~div.sk-toggleable__content {max-height: 200px;max-width: 100%;overflow: auto;}#sk-container-id-6 input.sk-toggleable__control:checked~label.sk-toggleable__label-arrow:before {content: \"▾\";}#sk-container-id-6 div.sk-estimator input.sk-toggleable__control:checked~label.sk-toggleable__label {background-color: #d4ebff;}#sk-container-id-6 div.sk-label input.sk-toggleable__control:checked~label.sk-toggleable__label {background-color: #d4ebff;}#sk-container-id-6 input.sk-hidden--visually {border: 0;clip: rect(1px 1px 1px 1px);clip: rect(1px, 1px, 1px, 1px);height: 1px;margin: -1px;overflow: hidden;padding: 0;position: absolute;width: 1px;}#sk-container-id-6 div.sk-estimator {font-family: monospace;background-color: #f0f8ff;border: 1px dotted black;border-radius: 0.25em;box-sizing: border-box;margin-bottom: 0.5em;}#sk-container-id-6 div.sk-estimator:hover {background-color: #d4ebff;}#sk-container-id-6 div.sk-parallel-item::after {content: \"\";width: 100%;border-bottom: 1px solid gray;flex-grow: 1;}#sk-container-id-6 div.sk-label:hover label.sk-toggleable__label {background-color: #d4ebff;}#sk-container-id-6 div.sk-serial::before {content: \"\";position: absolute;border-left: 1px solid gray;box-sizing: border-box;top: 0;bottom: 0;left: 50%;z-index: 0;}#sk-container-id-6 div.sk-serial {display: flex;flex-direction: column;align-items: center;background-color: white;padding-right: 0.2em;padding-left: 0.2em;position: relative;}#sk-container-id-6 div.sk-item {position: relative;z-index: 1;}#sk-container-id-6 div.sk-parallel {display: flex;align-items: stretch;justify-content: center;background-color: white;position: relative;}#sk-container-id-6 div.sk-item::before, #sk-container-id-6 div.sk-parallel-item::before {content: \"\";position: absolute;border-left: 1px solid gray;box-sizing: border-box;top: 0;bottom: 0;left: 50%;z-index: -1;}#sk-container-id-6 div.sk-parallel-item {display: flex;flex-direction: column;z-index: 1;position: relative;background-color: white;}#sk-container-id-6 div.sk-parallel-item:first-child::after {align-self: flex-end;width: 50%;}#sk-container-id-6 div.sk-parallel-item:last-child::after {align-self: flex-start;width: 50%;}#sk-container-id-6 div.sk-parallel-item:only-child::after {width: 0;}#sk-container-id-6 div.sk-dashed-wrapped {border: 1px dashed gray;margin: 0 0.4em 0.5em 0.4em;box-sizing: border-box;padding-bottom: 0.4em;background-color: white;}#sk-container-id-6 div.sk-label label {font-family: monospace;font-weight: bold;display: inline-block;line-height: 1.2em;}#sk-container-id-6 div.sk-label-container {text-align: center;}#sk-container-id-6 div.sk-container {/* jupyter's `normalize.less` sets `[hidden] { display: none; }` but bootstrap.min.css set `[hidden] { display: none !important; }` so we also need the `!important` here to be able to override the default hidden behavior on the sphinx rendered scikit-learn.org. See: https://github.com/scikit-learn/scikit-learn/issues/21755 */display: inline-block !important;position: relative;}#sk-container-id-6 div.sk-text-repr-fallback {display: none;}</style><div id=\"sk-container-id-6\" class=\"sk-top-container\"><div class=\"sk-text-repr-fallback\"><pre>ElasticNet(alpha=910.7750762883863)</pre><b>In a Jupyter environment, please rerun this cell to show the HTML representation or trust the notebook. <br />On GitHub, the HTML representation is unable to render, please try loading this page with nbviewer.org.</b></div><div class=\"sk-container\" hidden><div class=\"sk-item\"><div class=\"sk-estimator sk-toggleable\"><input class=\"sk-toggleable__control sk-hidden--visually\" id=\"sk-estimator-id-6\" type=\"checkbox\" checked><label for=\"sk-estimator-id-6\" class=\"sk-toggleable__label sk-toggleable__label-arrow\">ElasticNet</label><div class=\"sk-toggleable__content\"><pre>ElasticNet(alpha=910.7750762883863)</pre></div></div></div></div></div>"
      ],
      "text/plain": [
       "ElasticNet(alpha=910.7750762883863)"
      ]
     },
     "execution_count": 52,
     "metadata": {},
     "output_type": "execute_result"
    }
   ],
   "source": [
    "elasticnet_reg = ElasticNet(alpha = elasticCV.alpha_,l1_ratio=0.5)\n",
    "elasticnet_reg.fit(X, y)"
   ]
  },
  {
   "cell_type": "code",
   "execution_count": 53,
   "id": "86f5fc2c-a6de-4e97-be64-a0b0cd4c720d",
   "metadata": {},
   "outputs": [],
   "source": [
    "prediction_elastic=elasticnet_reg.predict(X)"
   ]
  },
  {
   "cell_type": "code",
   "execution_count": 54,
   "id": "9b6ac3bd-ea7e-4614-82e8-27efc25b00b2",
   "metadata": {},
   "outputs": [
    {
     "data": {
      "text/plain": [
       "0.0032650634981826743"
      ]
     },
     "execution_count": 54,
     "metadata": {},
     "output_type": "execute_result"
    }
   ],
   "source": [
    "r2_score(y,prediction_elastic)"
   ]
  },
  {
   "cell_type": "code",
   "execution_count": 55,
   "id": "fb467ef0-49e6-4393-9e60-fbef1a6d56fc",
   "metadata": {},
   "outputs": [],
   "source": [
    "prediction_elastic_valid=elasticnet_reg.predict(X1)"
   ]
  },
  {
   "cell_type": "code",
   "execution_count": 56,
   "id": "cc141c7b-7494-4710-8c21-7e60d2e04e1a",
   "metadata": {},
   "outputs": [
    {
     "data": {
      "text/plain": [
       "0.0029318969556925145"
      ]
     },
     "execution_count": 56,
     "metadata": {},
     "output_type": "execute_result"
    }
   ],
   "source": [
    "r2_score(y1,prediction_elastic_valid)"
   ]
  },
  {
   "cell_type": "markdown",
   "id": "c87f5c88-b82c-4afa-b5a1-6940b2937faf",
   "metadata": {
    "tags": []
   },
   "source": [
    "### SVR"
   ]
  },
  {
   "cell_type": "code",
   "execution_count": 57,
   "id": "f9efc352-0f9e-40f2-b5ad-a6a7ab5b8ab0",
   "metadata": {
    "tags": []
   },
   "outputs": [],
   "source": [
    "# svr=SVR()\n",
    "# params={\"kernel\":['linear', 'poly', 'rbf', 'sigmoid'],\"degree\":[1,2,3],\"gamma\":['scale', 'auto'],\"tol\":[1e-1,1e-2,1e-3,1e-4,1e-5],\"C\":[0.5,0.6,0.7,0.8,0.9,1.0]}\n",
    "# g=GridSearchCV(estimator=svr,param_grid=params,cv=100)\n",
    "# g.fit(X,y)\n",
    "# g.best_params_"
   ]
  },
  {
   "cell_type": "code",
   "execution_count": 58,
   "id": "79b4de8f-7b9d-464c-924e-83f95416ce09",
   "metadata": {},
   "outputs": [],
   "source": [
    "svr=SVR(kernel=\"rbf\",gamma=\"auto\",tol=1e-4,C=0.5)\n",
    "# kfold_validation=KFold(10)\n",
    "# results=cross_val_score(model,X,y,cv=kfold_validation)\n",
    "# print(results)\n",
    "# print(np.mean(results))"
   ]
  },
  {
   "cell_type": "code",
   "execution_count": 59,
   "id": "47739237-849d-4f4c-86a3-94675003cc54",
   "metadata": {},
   "outputs": [
    {
     "data": {
      "text/html": [
       "<style>#sk-container-id-7 {color: black;background-color: white;}#sk-container-id-7 pre{padding: 0;}#sk-container-id-7 div.sk-toggleable {background-color: white;}#sk-container-id-7 label.sk-toggleable__label {cursor: pointer;display: block;width: 100%;margin-bottom: 0;padding: 0.3em;box-sizing: border-box;text-align: center;}#sk-container-id-7 label.sk-toggleable__label-arrow:before {content: \"▸\";float: left;margin-right: 0.25em;color: #696969;}#sk-container-id-7 label.sk-toggleable__label-arrow:hover:before {color: black;}#sk-container-id-7 div.sk-estimator:hover label.sk-toggleable__label-arrow:before {color: black;}#sk-container-id-7 div.sk-toggleable__content {max-height: 0;max-width: 0;overflow: hidden;text-align: left;background-color: #f0f8ff;}#sk-container-id-7 div.sk-toggleable__content pre {margin: 0.2em;color: black;border-radius: 0.25em;background-color: #f0f8ff;}#sk-container-id-7 input.sk-toggleable__control:checked~div.sk-toggleable__content {max-height: 200px;max-width: 100%;overflow: auto;}#sk-container-id-7 input.sk-toggleable__control:checked~label.sk-toggleable__label-arrow:before {content: \"▾\";}#sk-container-id-7 div.sk-estimator input.sk-toggleable__control:checked~label.sk-toggleable__label {background-color: #d4ebff;}#sk-container-id-7 div.sk-label input.sk-toggleable__control:checked~label.sk-toggleable__label {background-color: #d4ebff;}#sk-container-id-7 input.sk-hidden--visually {border: 0;clip: rect(1px 1px 1px 1px);clip: rect(1px, 1px, 1px, 1px);height: 1px;margin: -1px;overflow: hidden;padding: 0;position: absolute;width: 1px;}#sk-container-id-7 div.sk-estimator {font-family: monospace;background-color: #f0f8ff;border: 1px dotted black;border-radius: 0.25em;box-sizing: border-box;margin-bottom: 0.5em;}#sk-container-id-7 div.sk-estimator:hover {background-color: #d4ebff;}#sk-container-id-7 div.sk-parallel-item::after {content: \"\";width: 100%;border-bottom: 1px solid gray;flex-grow: 1;}#sk-container-id-7 div.sk-label:hover label.sk-toggleable__label {background-color: #d4ebff;}#sk-container-id-7 div.sk-serial::before {content: \"\";position: absolute;border-left: 1px solid gray;box-sizing: border-box;top: 0;bottom: 0;left: 50%;z-index: 0;}#sk-container-id-7 div.sk-serial {display: flex;flex-direction: column;align-items: center;background-color: white;padding-right: 0.2em;padding-left: 0.2em;position: relative;}#sk-container-id-7 div.sk-item {position: relative;z-index: 1;}#sk-container-id-7 div.sk-parallel {display: flex;align-items: stretch;justify-content: center;background-color: white;position: relative;}#sk-container-id-7 div.sk-item::before, #sk-container-id-7 div.sk-parallel-item::before {content: \"\";position: absolute;border-left: 1px solid gray;box-sizing: border-box;top: 0;bottom: 0;left: 50%;z-index: -1;}#sk-container-id-7 div.sk-parallel-item {display: flex;flex-direction: column;z-index: 1;position: relative;background-color: white;}#sk-container-id-7 div.sk-parallel-item:first-child::after {align-self: flex-end;width: 50%;}#sk-container-id-7 div.sk-parallel-item:last-child::after {align-self: flex-start;width: 50%;}#sk-container-id-7 div.sk-parallel-item:only-child::after {width: 0;}#sk-container-id-7 div.sk-dashed-wrapped {border: 1px dashed gray;margin: 0 0.4em 0.5em 0.4em;box-sizing: border-box;padding-bottom: 0.4em;background-color: white;}#sk-container-id-7 div.sk-label label {font-family: monospace;font-weight: bold;display: inline-block;line-height: 1.2em;}#sk-container-id-7 div.sk-label-container {text-align: center;}#sk-container-id-7 div.sk-container {/* jupyter's `normalize.less` sets `[hidden] { display: none; }` but bootstrap.min.css set `[hidden] { display: none !important; }` so we also need the `!important` here to be able to override the default hidden behavior on the sphinx rendered scikit-learn.org. See: https://github.com/scikit-learn/scikit-learn/issues/21755 */display: inline-block !important;position: relative;}#sk-container-id-7 div.sk-text-repr-fallback {display: none;}</style><div id=\"sk-container-id-7\" class=\"sk-top-container\"><div class=\"sk-text-repr-fallback\"><pre>SVR(C=0.5, gamma=&#x27;auto&#x27;, tol=0.0001)</pre><b>In a Jupyter environment, please rerun this cell to show the HTML representation or trust the notebook. <br />On GitHub, the HTML representation is unable to render, please try loading this page with nbviewer.org.</b></div><div class=\"sk-container\" hidden><div class=\"sk-item\"><div class=\"sk-estimator sk-toggleable\"><input class=\"sk-toggleable__control sk-hidden--visually\" id=\"sk-estimator-id-7\" type=\"checkbox\" checked><label for=\"sk-estimator-id-7\" class=\"sk-toggleable__label sk-toggleable__label-arrow\">SVR</label><div class=\"sk-toggleable__content\"><pre>SVR(C=0.5, gamma=&#x27;auto&#x27;, tol=0.0001)</pre></div></div></div></div></div>"
      ],
      "text/plain": [
       "SVR(C=0.5, gamma='auto', tol=0.0001)"
      ]
     },
     "execution_count": 59,
     "metadata": {},
     "output_type": "execute_result"
    }
   ],
   "source": [
    "svr.fit(X,y)"
   ]
  },
  {
   "cell_type": "code",
   "execution_count": 60,
   "id": "6200325a-f097-4695-9db2-5355a67ade16",
   "metadata": {},
   "outputs": [],
   "source": [
    "prediction_svr=svr.predict(X)"
   ]
  },
  {
   "cell_type": "code",
   "execution_count": 61,
   "id": "f0430f7d-86ea-46f3-9ca4-a6840908228f",
   "metadata": {},
   "outputs": [
    {
     "data": {
      "text/plain": [
       "-0.0315487595726327"
      ]
     },
     "execution_count": 61,
     "metadata": {},
     "output_type": "execute_result"
    }
   ],
   "source": [
    "r2_score(y,prediction_svr)"
   ]
  },
  {
   "cell_type": "code",
   "execution_count": 62,
   "id": "5e59c7bc-f2ea-4994-a2a2-db013dcd53c2",
   "metadata": {},
   "outputs": [],
   "source": [
    "prediction_svr_valid=svr.predict(X1)"
   ]
  },
  {
   "cell_type": "code",
   "execution_count": 63,
   "id": "3323962b-616c-4ec5-905f-ef5d933a984d",
   "metadata": {},
   "outputs": [
    {
     "data": {
      "text/plain": [
       "-0.025742285160578637"
      ]
     },
     "execution_count": 63,
     "metadata": {},
     "output_type": "execute_result"
    }
   ],
   "source": [
    "r2_score(y1,prediction_svr_valid)"
   ]
  },
  {
   "cell_type": "markdown",
   "id": "c6daca65-8c45-4367-9e88-71486f33a355",
   "metadata": {
    "tags": []
   },
   "source": [
    "### Decision Tree"
   ]
  },
  {
   "cell_type": "code",
   "execution_count": 64,
   "id": "e77d526a-6719-4f60-bbb8-7e71a8d331e0",
   "metadata": {},
   "outputs": [],
   "source": [
    "# model=DecisionTreeRegressor(max_depth=6)\n",
    "# kfold_validation=KFold(10)\n",
    "# results=cross_val_score(model,X,y,cv=kfold_validation)\n",
    "# print(results)\n",
    "# print(np.mean(results))"
   ]
  },
  {
   "cell_type": "code",
   "execution_count": 65,
   "id": "7f22759a-90d1-445e-9c0f-f2f703a346a2",
   "metadata": {
    "tags": []
   },
   "outputs": [],
   "source": [
    "# dr=DecisionTreeRegressor()\n",
    "# params={\"criterion\":['squared_error', 'friedman_mse', 'absolute_error', 'poisson'],\"splitter\":['best', 'random'],\"max_depth\":[2,3,4,5,6,7,8,9,10],\"min_samples_split\":[0.5,0.6,0.7,2,3,4,5],\"min_samples_leaf\":[2,3,4,5,6],\"max_features\":['auto', 'sqrt', 'log2'],\"max_leaf_nodes\":[1,2,3,4,5,6,7,8,9,10]}\n",
    "# g=GridSearchCV(estimator=dr,param_grid=params,cv=10)\n",
    "# g.fit(X,y)\n",
    "# g.best_params_"
   ]
  },
  {
   "cell_type": "code",
   "execution_count": 66,
   "id": "2e7b08bf-8208-4f66-afa8-086499a127b0",
   "metadata": {},
   "outputs": [
    {
     "data": {
      "text/html": [
       "<style>#sk-container-id-8 {color: black;background-color: white;}#sk-container-id-8 pre{padding: 0;}#sk-container-id-8 div.sk-toggleable {background-color: white;}#sk-container-id-8 label.sk-toggleable__label {cursor: pointer;display: block;width: 100%;margin-bottom: 0;padding: 0.3em;box-sizing: border-box;text-align: center;}#sk-container-id-8 label.sk-toggleable__label-arrow:before {content: \"▸\";float: left;margin-right: 0.25em;color: #696969;}#sk-container-id-8 label.sk-toggleable__label-arrow:hover:before {color: black;}#sk-container-id-8 div.sk-estimator:hover label.sk-toggleable__label-arrow:before {color: black;}#sk-container-id-8 div.sk-toggleable__content {max-height: 0;max-width: 0;overflow: hidden;text-align: left;background-color: #f0f8ff;}#sk-container-id-8 div.sk-toggleable__content pre {margin: 0.2em;color: black;border-radius: 0.25em;background-color: #f0f8ff;}#sk-container-id-8 input.sk-toggleable__control:checked~div.sk-toggleable__content {max-height: 200px;max-width: 100%;overflow: auto;}#sk-container-id-8 input.sk-toggleable__control:checked~label.sk-toggleable__label-arrow:before {content: \"▾\";}#sk-container-id-8 div.sk-estimator input.sk-toggleable__control:checked~label.sk-toggleable__label {background-color: #d4ebff;}#sk-container-id-8 div.sk-label input.sk-toggleable__control:checked~label.sk-toggleable__label {background-color: #d4ebff;}#sk-container-id-8 input.sk-hidden--visually {border: 0;clip: rect(1px 1px 1px 1px);clip: rect(1px, 1px, 1px, 1px);height: 1px;margin: -1px;overflow: hidden;padding: 0;position: absolute;width: 1px;}#sk-container-id-8 div.sk-estimator {font-family: monospace;background-color: #f0f8ff;border: 1px dotted black;border-radius: 0.25em;box-sizing: border-box;margin-bottom: 0.5em;}#sk-container-id-8 div.sk-estimator:hover {background-color: #d4ebff;}#sk-container-id-8 div.sk-parallel-item::after {content: \"\";width: 100%;border-bottom: 1px solid gray;flex-grow: 1;}#sk-container-id-8 div.sk-label:hover label.sk-toggleable__label {background-color: #d4ebff;}#sk-container-id-8 div.sk-serial::before {content: \"\";position: absolute;border-left: 1px solid gray;box-sizing: border-box;top: 0;bottom: 0;left: 50%;z-index: 0;}#sk-container-id-8 div.sk-serial {display: flex;flex-direction: column;align-items: center;background-color: white;padding-right: 0.2em;padding-left: 0.2em;position: relative;}#sk-container-id-8 div.sk-item {position: relative;z-index: 1;}#sk-container-id-8 div.sk-parallel {display: flex;align-items: stretch;justify-content: center;background-color: white;position: relative;}#sk-container-id-8 div.sk-item::before, #sk-container-id-8 div.sk-parallel-item::before {content: \"\";position: absolute;border-left: 1px solid gray;box-sizing: border-box;top: 0;bottom: 0;left: 50%;z-index: -1;}#sk-container-id-8 div.sk-parallel-item {display: flex;flex-direction: column;z-index: 1;position: relative;background-color: white;}#sk-container-id-8 div.sk-parallel-item:first-child::after {align-self: flex-end;width: 50%;}#sk-container-id-8 div.sk-parallel-item:last-child::after {align-self: flex-start;width: 50%;}#sk-container-id-8 div.sk-parallel-item:only-child::after {width: 0;}#sk-container-id-8 div.sk-dashed-wrapped {border: 1px dashed gray;margin: 0 0.4em 0.5em 0.4em;box-sizing: border-box;padding-bottom: 0.4em;background-color: white;}#sk-container-id-8 div.sk-label label {font-family: monospace;font-weight: bold;display: inline-block;line-height: 1.2em;}#sk-container-id-8 div.sk-label-container {text-align: center;}#sk-container-id-8 div.sk-container {/* jupyter's `normalize.less` sets `[hidden] { display: none; }` but bootstrap.min.css set `[hidden] { display: none !important; }` so we also need the `!important` here to be able to override the default hidden behavior on the sphinx rendered scikit-learn.org. See: https://github.com/scikit-learn/scikit-learn/issues/21755 */display: inline-block !important;position: relative;}#sk-container-id-8 div.sk-text-repr-fallback {display: none;}</style><div id=\"sk-container-id-8\" class=\"sk-top-container\"><div class=\"sk-text-repr-fallback\"><pre>DecisionTreeRegressor(max_depth=6, max_features=0.8, max_leaf_nodes=7,\n",
       "                      min_samples_leaf=20, min_samples_split=20,\n",
       "                      random_state=0)</pre><b>In a Jupyter environment, please rerun this cell to show the HTML representation or trust the notebook. <br />On GitHub, the HTML representation is unable to render, please try loading this page with nbviewer.org.</b></div><div class=\"sk-container\" hidden><div class=\"sk-item\"><div class=\"sk-estimator sk-toggleable\"><input class=\"sk-toggleable__control sk-hidden--visually\" id=\"sk-estimator-id-8\" type=\"checkbox\" checked><label for=\"sk-estimator-id-8\" class=\"sk-toggleable__label sk-toggleable__label-arrow\">DecisionTreeRegressor</label><div class=\"sk-toggleable__content\"><pre>DecisionTreeRegressor(max_depth=6, max_features=0.8, max_leaf_nodes=7,\n",
       "                      min_samples_leaf=20, min_samples_split=20,\n",
       "                      random_state=0)</pre></div></div></div></div></div>"
      ],
      "text/plain": [
       "DecisionTreeRegressor(max_depth=6, max_features=0.8, max_leaf_nodes=7,\n",
       "                      min_samples_leaf=20, min_samples_split=20,\n",
       "                      random_state=0)"
      ]
     },
     "execution_count": 66,
     "metadata": {},
     "output_type": "execute_result"
    }
   ],
   "source": [
    "dt_model1 = DecisionTreeRegressor(max_depth=6,min_samples_split=20,min_samples_leaf=20,max_leaf_nodes=7,max_features=0.8,random_state=0)\n",
    "dt_model1.fit(X,y)"
   ]
  },
  {
   "cell_type": "code",
   "execution_count": 67,
   "id": "e234152c-7eae-431e-a9b5-eebf553a9ad7",
   "metadata": {},
   "outputs": [
    {
     "data": {
      "text/plain": [
       "0.7260591226992177"
      ]
     },
     "execution_count": 67,
     "metadata": {},
     "output_type": "execute_result"
    }
   ],
   "source": [
    "dt_model1.score(X,y)"
   ]
  },
  {
   "cell_type": "code",
   "execution_count": 68,
   "id": "8c22ea0c-f658-4880-8bea-de73b73d98d2",
   "metadata": {
    "tags": []
   },
   "outputs": [
    {
     "data": {
      "text/plain": [
       "0.7045482472578032"
      ]
     },
     "execution_count": 68,
     "metadata": {},
     "output_type": "execute_result"
    }
   ],
   "source": [
    "dt_model1.score(X1, y1)"
   ]
  },
  {
   "cell_type": "markdown",
   "id": "3e9b092a-36f8-4651-b19f-6f214b244988",
   "metadata": {
    "tags": []
   },
   "source": [
    "### KNN"
   ]
  },
  {
   "cell_type": "code",
   "execution_count": 69,
   "id": "550e8b57-d245-4dea-82ac-488bc1d378ce",
   "metadata": {},
   "outputs": [],
   "source": [
    "knn=KNeighborsRegressor(n_neighbors=4,algorithm=\"brute\")"
   ]
  },
  {
   "cell_type": "code",
   "execution_count": 70,
   "id": "75827080-9622-4436-bd96-a3122a9e1d4f",
   "metadata": {},
   "outputs": [
    {
     "data": {
      "text/html": [
       "<style>#sk-container-id-9 {color: black;background-color: white;}#sk-container-id-9 pre{padding: 0;}#sk-container-id-9 div.sk-toggleable {background-color: white;}#sk-container-id-9 label.sk-toggleable__label {cursor: pointer;display: block;width: 100%;margin-bottom: 0;padding: 0.3em;box-sizing: border-box;text-align: center;}#sk-container-id-9 label.sk-toggleable__label-arrow:before {content: \"▸\";float: left;margin-right: 0.25em;color: #696969;}#sk-container-id-9 label.sk-toggleable__label-arrow:hover:before {color: black;}#sk-container-id-9 div.sk-estimator:hover label.sk-toggleable__label-arrow:before {color: black;}#sk-container-id-9 div.sk-toggleable__content {max-height: 0;max-width: 0;overflow: hidden;text-align: left;background-color: #f0f8ff;}#sk-container-id-9 div.sk-toggleable__content pre {margin: 0.2em;color: black;border-radius: 0.25em;background-color: #f0f8ff;}#sk-container-id-9 input.sk-toggleable__control:checked~div.sk-toggleable__content {max-height: 200px;max-width: 100%;overflow: auto;}#sk-container-id-9 input.sk-toggleable__control:checked~label.sk-toggleable__label-arrow:before {content: \"▾\";}#sk-container-id-9 div.sk-estimator input.sk-toggleable__control:checked~label.sk-toggleable__label {background-color: #d4ebff;}#sk-container-id-9 div.sk-label input.sk-toggleable__control:checked~label.sk-toggleable__label {background-color: #d4ebff;}#sk-container-id-9 input.sk-hidden--visually {border: 0;clip: rect(1px 1px 1px 1px);clip: rect(1px, 1px, 1px, 1px);height: 1px;margin: -1px;overflow: hidden;padding: 0;position: absolute;width: 1px;}#sk-container-id-9 div.sk-estimator {font-family: monospace;background-color: #f0f8ff;border: 1px dotted black;border-radius: 0.25em;box-sizing: border-box;margin-bottom: 0.5em;}#sk-container-id-9 div.sk-estimator:hover {background-color: #d4ebff;}#sk-container-id-9 div.sk-parallel-item::after {content: \"\";width: 100%;border-bottom: 1px solid gray;flex-grow: 1;}#sk-container-id-9 div.sk-label:hover label.sk-toggleable__label {background-color: #d4ebff;}#sk-container-id-9 div.sk-serial::before {content: \"\";position: absolute;border-left: 1px solid gray;box-sizing: border-box;top: 0;bottom: 0;left: 50%;z-index: 0;}#sk-container-id-9 div.sk-serial {display: flex;flex-direction: column;align-items: center;background-color: white;padding-right: 0.2em;padding-left: 0.2em;position: relative;}#sk-container-id-9 div.sk-item {position: relative;z-index: 1;}#sk-container-id-9 div.sk-parallel {display: flex;align-items: stretch;justify-content: center;background-color: white;position: relative;}#sk-container-id-9 div.sk-item::before, #sk-container-id-9 div.sk-parallel-item::before {content: \"\";position: absolute;border-left: 1px solid gray;box-sizing: border-box;top: 0;bottom: 0;left: 50%;z-index: -1;}#sk-container-id-9 div.sk-parallel-item {display: flex;flex-direction: column;z-index: 1;position: relative;background-color: white;}#sk-container-id-9 div.sk-parallel-item:first-child::after {align-self: flex-end;width: 50%;}#sk-container-id-9 div.sk-parallel-item:last-child::after {align-self: flex-start;width: 50%;}#sk-container-id-9 div.sk-parallel-item:only-child::after {width: 0;}#sk-container-id-9 div.sk-dashed-wrapped {border: 1px dashed gray;margin: 0 0.4em 0.5em 0.4em;box-sizing: border-box;padding-bottom: 0.4em;background-color: white;}#sk-container-id-9 div.sk-label label {font-family: monospace;font-weight: bold;display: inline-block;line-height: 1.2em;}#sk-container-id-9 div.sk-label-container {text-align: center;}#sk-container-id-9 div.sk-container {/* jupyter's `normalize.less` sets `[hidden] { display: none; }` but bootstrap.min.css set `[hidden] { display: none !important; }` so we also need the `!important` here to be able to override the default hidden behavior on the sphinx rendered scikit-learn.org. See: https://github.com/scikit-learn/scikit-learn/issues/21755 */display: inline-block !important;position: relative;}#sk-container-id-9 div.sk-text-repr-fallback {display: none;}</style><div id=\"sk-container-id-9\" class=\"sk-top-container\"><div class=\"sk-text-repr-fallback\"><pre>KNeighborsRegressor(algorithm=&#x27;brute&#x27;, n_neighbors=4)</pre><b>In a Jupyter environment, please rerun this cell to show the HTML representation or trust the notebook. <br />On GitHub, the HTML representation is unable to render, please try loading this page with nbviewer.org.</b></div><div class=\"sk-container\" hidden><div class=\"sk-item\"><div class=\"sk-estimator sk-toggleable\"><input class=\"sk-toggleable__control sk-hidden--visually\" id=\"sk-estimator-id-9\" type=\"checkbox\" checked><label for=\"sk-estimator-id-9\" class=\"sk-toggleable__label sk-toggleable__label-arrow\">KNeighborsRegressor</label><div class=\"sk-toggleable__content\"><pre>KNeighborsRegressor(algorithm=&#x27;brute&#x27;, n_neighbors=4)</pre></div></div></div></div></div>"
      ],
      "text/plain": [
       "KNeighborsRegressor(algorithm='brute', n_neighbors=4)"
      ]
     },
     "execution_count": 70,
     "metadata": {},
     "output_type": "execute_result"
    }
   ],
   "source": [
    "knn.fit(X,y)"
   ]
  },
  {
   "cell_type": "code",
   "execution_count": 71,
   "id": "5dbf072e-021e-4216-8dd8-0c5ec72c2ff3",
   "metadata": {},
   "outputs": [
    {
     "data": {
      "text/plain": [
       "0.9341454068616372"
      ]
     },
     "execution_count": 71,
     "metadata": {},
     "output_type": "execute_result"
    }
   ],
   "source": [
    "knn.score(X,y)"
   ]
  },
  {
   "cell_type": "code",
   "execution_count": 72,
   "id": "8723774b-3aa8-4b24-9f00-c1204348b28a",
   "metadata": {},
   "outputs": [
    {
     "data": {
      "text/plain": [
       "0.8643609634775197"
      ]
     },
     "execution_count": 72,
     "metadata": {},
     "output_type": "execute_result"
    }
   ],
   "source": [
    "knn.score(X1, y1)"
   ]
  },
  {
   "cell_type": "markdown",
   "id": "dd21fea2-ce5e-46e2-826a-92c18eb71ce3",
   "metadata": {
    "jp-MarkdownHeadingCollapsed": true,
    "tags": []
   },
   "source": [
    "# Cluster2"
   ]
  },
  {
   "cell_type": "code",
   "execution_count": 73,
   "id": "6124057f-7472-4ca0-9f58-295752e90270",
   "metadata": {},
   "outputs": [],
   "source": [
    "df2.drop(\"cluster\",axis=1,inplace=True)"
   ]
  },
  {
   "cell_type": "code",
   "execution_count": 74,
   "id": "c662ea0e-f926-422f-bceb-17247e839873",
   "metadata": {},
   "outputs": [],
   "source": [
    "XX=df2.drop(\"Total_Sales\",axis=1)\n",
    "yy=df2[\"Total_Sales\"]"
   ]
  },
  {
   "cell_type": "markdown",
   "id": "45d75283-ac7a-49a4-a37a-057d0ecbedfd",
   "metadata": {
    "jp-MarkdownHeadingCollapsed": true,
    "tags": []
   },
   "source": [
    "### Linear Regression"
   ]
  },
  {
   "cell_type": "code",
   "execution_count": 75,
   "id": "f83303d3-e6ae-4b95-86be-1408f85fa4e3",
   "metadata": {},
   "outputs": [],
   "source": [
    "lr=LinearRegression()"
   ]
  },
  {
   "cell_type": "code",
   "execution_count": 76,
   "id": "2f6003ff-8bfe-4590-8997-8560b895179a",
   "metadata": {},
   "outputs": [
    {
     "data": {
      "text/html": [
       "<style>#sk-container-id-10 {color: black;background-color: white;}#sk-container-id-10 pre{padding: 0;}#sk-container-id-10 div.sk-toggleable {background-color: white;}#sk-container-id-10 label.sk-toggleable__label {cursor: pointer;display: block;width: 100%;margin-bottom: 0;padding: 0.3em;box-sizing: border-box;text-align: center;}#sk-container-id-10 label.sk-toggleable__label-arrow:before {content: \"▸\";float: left;margin-right: 0.25em;color: #696969;}#sk-container-id-10 label.sk-toggleable__label-arrow:hover:before {color: black;}#sk-container-id-10 div.sk-estimator:hover label.sk-toggleable__label-arrow:before {color: black;}#sk-container-id-10 div.sk-toggleable__content {max-height: 0;max-width: 0;overflow: hidden;text-align: left;background-color: #f0f8ff;}#sk-container-id-10 div.sk-toggleable__content pre {margin: 0.2em;color: black;border-radius: 0.25em;background-color: #f0f8ff;}#sk-container-id-10 input.sk-toggleable__control:checked~div.sk-toggleable__content {max-height: 200px;max-width: 100%;overflow: auto;}#sk-container-id-10 input.sk-toggleable__control:checked~label.sk-toggleable__label-arrow:before {content: \"▾\";}#sk-container-id-10 div.sk-estimator input.sk-toggleable__control:checked~label.sk-toggleable__label {background-color: #d4ebff;}#sk-container-id-10 div.sk-label input.sk-toggleable__control:checked~label.sk-toggleable__label {background-color: #d4ebff;}#sk-container-id-10 input.sk-hidden--visually {border: 0;clip: rect(1px 1px 1px 1px);clip: rect(1px, 1px, 1px, 1px);height: 1px;margin: -1px;overflow: hidden;padding: 0;position: absolute;width: 1px;}#sk-container-id-10 div.sk-estimator {font-family: monospace;background-color: #f0f8ff;border: 1px dotted black;border-radius: 0.25em;box-sizing: border-box;margin-bottom: 0.5em;}#sk-container-id-10 div.sk-estimator:hover {background-color: #d4ebff;}#sk-container-id-10 div.sk-parallel-item::after {content: \"\";width: 100%;border-bottom: 1px solid gray;flex-grow: 1;}#sk-container-id-10 div.sk-label:hover label.sk-toggleable__label {background-color: #d4ebff;}#sk-container-id-10 div.sk-serial::before {content: \"\";position: absolute;border-left: 1px solid gray;box-sizing: border-box;top: 0;bottom: 0;left: 50%;z-index: 0;}#sk-container-id-10 div.sk-serial {display: flex;flex-direction: column;align-items: center;background-color: white;padding-right: 0.2em;padding-left: 0.2em;position: relative;}#sk-container-id-10 div.sk-item {position: relative;z-index: 1;}#sk-container-id-10 div.sk-parallel {display: flex;align-items: stretch;justify-content: center;background-color: white;position: relative;}#sk-container-id-10 div.sk-item::before, #sk-container-id-10 div.sk-parallel-item::before {content: \"\";position: absolute;border-left: 1px solid gray;box-sizing: border-box;top: 0;bottom: 0;left: 50%;z-index: -1;}#sk-container-id-10 div.sk-parallel-item {display: flex;flex-direction: column;z-index: 1;position: relative;background-color: white;}#sk-container-id-10 div.sk-parallel-item:first-child::after {align-self: flex-end;width: 50%;}#sk-container-id-10 div.sk-parallel-item:last-child::after {align-self: flex-start;width: 50%;}#sk-container-id-10 div.sk-parallel-item:only-child::after {width: 0;}#sk-container-id-10 div.sk-dashed-wrapped {border: 1px dashed gray;margin: 0 0.4em 0.5em 0.4em;box-sizing: border-box;padding-bottom: 0.4em;background-color: white;}#sk-container-id-10 div.sk-label label {font-family: monospace;font-weight: bold;display: inline-block;line-height: 1.2em;}#sk-container-id-10 div.sk-label-container {text-align: center;}#sk-container-id-10 div.sk-container {/* jupyter's `normalize.less` sets `[hidden] { display: none; }` but bootstrap.min.css set `[hidden] { display: none !important; }` so we also need the `!important` here to be able to override the default hidden behavior on the sphinx rendered scikit-learn.org. See: https://github.com/scikit-learn/scikit-learn/issues/21755 */display: inline-block !important;position: relative;}#sk-container-id-10 div.sk-text-repr-fallback {display: none;}</style><div id=\"sk-container-id-10\" class=\"sk-top-container\"><div class=\"sk-text-repr-fallback\"><pre>LinearRegression()</pre><b>In a Jupyter environment, please rerun this cell to show the HTML representation or trust the notebook. <br />On GitHub, the HTML representation is unable to render, please try loading this page with nbviewer.org.</b></div><div class=\"sk-container\" hidden><div class=\"sk-item\"><div class=\"sk-estimator sk-toggleable\"><input class=\"sk-toggleable__control sk-hidden--visually\" id=\"sk-estimator-id-10\" type=\"checkbox\" checked><label for=\"sk-estimator-id-10\" class=\"sk-toggleable__label sk-toggleable__label-arrow\">LinearRegression</label><div class=\"sk-toggleable__content\"><pre>LinearRegression()</pre></div></div></div></div></div>"
      ],
      "text/plain": [
       "LinearRegression()"
      ]
     },
     "execution_count": 76,
     "metadata": {},
     "output_type": "execute_result"
    }
   ],
   "source": [
    "lr.fit(XX,yy)"
   ]
  },
  {
   "cell_type": "code",
   "execution_count": 77,
   "id": "64f3e570-79cd-4cf3-844b-bac514135c1e",
   "metadata": {},
   "outputs": [],
   "source": [
    "pred=lr.predict(XX)"
   ]
  },
  {
   "cell_type": "code",
   "execution_count": 78,
   "id": "44ba6c0d-e0f3-4b6d-b781-a37350fb6a5f",
   "metadata": {},
   "outputs": [
    {
     "data": {
      "text/plain": [
       "0.7188299741144935"
      ]
     },
     "execution_count": 78,
     "metadata": {},
     "output_type": "execute_result"
    }
   ],
   "source": [
    "r2_score(yy,pred)"
   ]
  },
  {
   "cell_type": "code",
   "execution_count": 79,
   "id": "7a2c1db7-1f5f-495e-9aa7-40efe5e613da",
   "metadata": {},
   "outputs": [],
   "source": [
    "df2_valid=cluster_df_valid[cluster_df_valid[\"cluster\"]==1]\n",
    "df2_valid.drop(\"cluster\",axis=1,inplace=True)\n",
    "X2=df2_valid.drop(\"Total_Sales\",axis=1)\n",
    "y2=df2_valid[\"Total_Sales\"]"
   ]
  },
  {
   "cell_type": "code",
   "execution_count": 80,
   "id": "dc55065a-ed77-4455-b829-a66e9c96b83a",
   "metadata": {},
   "outputs": [],
   "source": [
    "pred=lr.predict(X2)"
   ]
  },
  {
   "cell_type": "code",
   "execution_count": 81,
   "id": "c705bac0-b541-4d42-83eb-b5f8fa46b488",
   "metadata": {},
   "outputs": [
    {
     "data": {
      "text/plain": [
       "0.5410604626300053"
      ]
     },
     "execution_count": 81,
     "metadata": {},
     "output_type": "execute_result"
    }
   ],
   "source": [
    "r2_score(y2,pred)"
   ]
  },
  {
   "cell_type": "markdown",
   "id": "8027ce15-8074-4f72-9dba-110aee40be43",
   "metadata": {
    "jp-MarkdownHeadingCollapsed": true,
    "tags": []
   },
   "source": [
    "### Statsmodel"
   ]
  },
  {
   "cell_type": "code",
   "execution_count": 82,
   "id": "fd2ceae4-db87-4dea-baab-8224c0c2ed11",
   "metadata": {},
   "outputs": [],
   "source": [
    "#Adding Intercept term to the model\n",
    "X_train=sm.add_constant(XX)\n",
    "X_test=sm.add_constant(X2)"
   ]
  },
  {
   "cell_type": "code",
   "execution_count": 83,
   "id": "426b2b93-6c53-4eab-b146-e35b0c050835",
   "metadata": {},
   "outputs": [
    {
     "name": "stdout",
     "output_type": "stream",
     "text": [
      "                            OLS Regression Results                            \n",
      "==============================================================================\n",
      "Dep. Variable:                      y   R-squared:                       0.719\n",
      "Model:                            OLS   Adj. R-squared:                  0.709\n",
      "Method:                 Least Squares   F-statistic:                     72.44\n",
      "Date:                Fri, 16 Sep 2022   Prob (F-statistic):           5.29e-86\n",
      "Time:                        08:04:24   Log-Likelihood:                -4997.4\n",
      "No. Observations:                 353   AIC:                         1.002e+04\n",
      "Df Residuals:                     340   BIC:                         1.007e+04\n",
      "Df Model:                          12                                         \n",
      "Covariance Type:            nonrobust                                         \n",
      "=====================================================================================\n",
      "                        coef    std err          t      P>|t|      [0.025      0.975]\n",
      "-------------------------------------------------------------------------------------\n",
      "Food               4.106e+04   5.43e+04      0.756      0.450   -6.57e+04    1.48e+05\n",
      "Religion           1.592e+05   8.52e+04      1.869      0.062   -8328.954    3.27e+05\n",
      "Temperature        6.674e+04   2.03e+04      3.283      0.001    2.68e+04    1.07e+05\n",
      "Fuel_Price        -6.523e+04   2.72e+04     -2.394      0.017   -1.19e+05   -1.16e+04\n",
      "MarkDown1         -4.784e+04   4.95e+04     -0.967      0.334   -1.45e+05    4.94e+04\n",
      "MarkDown2          4501.3435   7087.366      0.635      0.526   -9439.262    1.84e+04\n",
      "MarkDown3          4.238e+04   5710.956      7.420      0.000    3.11e+04    5.36e+04\n",
      "MarkDown4          7.703e+04   4.71e+04      1.635      0.103   -1.56e+04     1.7e+05\n",
      "MarkDown5          5.434e+04   6.91e+04      0.787      0.432   -8.15e+04     1.9e+05\n",
      "CPI               -5.798e+04   2.11e+04     -2.747      0.006   -9.95e+04   -1.65e+04\n",
      "Unemployment_Rate -1.674e+04   2.14e+04     -0.781      0.435   -5.89e+04    2.54e+04\n",
      "Holiday            2.937e+05   1.01e+04     29.057      0.000    2.74e+05    3.14e+05\n",
      "Size               5.169e+05   2.98e+04     17.330      0.000    4.58e+05    5.76e+05\n",
      "==============================================================================\n",
      "Omnibus:                       87.922   Durbin-Watson:                   1.988\n",
      "Prob(Omnibus):                  0.000   Jarque-Bera (JB):              228.203\n",
      "Skew:                           1.182   Prob(JB):                     2.79e-50\n",
      "Kurtosis:                       6.150   Cond. No.                         22.1\n",
      "==============================================================================\n",
      "\n",
      "Notes:\n",
      "[1] Standard Errors assume that the covariance matrix of the errors is correctly specified.\n",
      "---------------------------------------------------------------\n",
      "                            OLS Regression Results                            \n",
      "==============================================================================\n",
      "Dep. Variable:                      y   R-squared:                       0.645\n",
      "Model:                            OLS   Adj. R-squared:                  0.587\n",
      "Method:                 Least Squares   F-statistic:                     11.05\n",
      "Date:                Fri, 16 Sep 2022   Prob (F-statistic):           3.67e-12\n",
      "Time:                        08:04:24   Log-Likelihood:                -1210.0\n",
      "No. Observations:                  86   AIC:                             2446.\n",
      "Df Residuals:                      73   BIC:                             2478.\n",
      "Df Model:                          12                                         \n",
      "Covariance Type:            nonrobust                                         \n",
      "=====================================================================================\n",
      "                        coef    std err          t      P>|t|      [0.025      0.975]\n",
      "-------------------------------------------------------------------------------------\n",
      "Food                1.94e+05   1.23e+05      1.577      0.119   -5.11e+04    4.39e+05\n",
      "Religion           2.548e+05   2.02e+05      1.261      0.211   -1.48e+05    6.57e+05\n",
      "Temperature         2.46e+04   4.01e+04      0.613      0.542   -5.54e+04    1.05e+05\n",
      "Fuel_Price        -4.764e+04   5.76e+04     -0.826      0.411   -1.63e+05    6.73e+04\n",
      "MarkDown1          1.332e+04   1.17e+05      0.114      0.910    -2.2e+05    2.47e+05\n",
      "MarkDown2          8306.8412   1.43e+04      0.582      0.563   -2.02e+04    3.68e+04\n",
      "MarkDown3          4.349e+04   1.16e+04      3.758      0.000    2.04e+04    6.66e+04\n",
      "MarkDown4          1.211e+05   1.21e+05      1.000      0.320    -1.2e+05    3.63e+05\n",
      "MarkDown5         -1.966e+05   1.21e+05     -1.631      0.107   -4.37e+05    4.36e+04\n",
      "CPI               -1.144e+05   4.55e+04     -2.513      0.014   -2.05e+05   -2.37e+04\n",
      "Unemployment_Rate -5.653e+04   3.57e+04     -1.583      0.118   -1.28e+05    1.46e+04\n",
      "Holiday            2.458e+05   2.04e+04     12.049      0.000    2.05e+05    2.87e+05\n",
      "Size               4.975e+05   7.67e+04      6.482      0.000    3.45e+05     6.5e+05\n",
      "==============================================================================\n",
      "Omnibus:                       11.249   Durbin-Watson:                   2.100\n",
      "Prob(Omnibus):                  0.004   Jarque-Bera (JB):               11.546\n",
      "Skew:                           0.858   Prob(JB):                      0.00311\n",
      "Kurtosis:                       3.525   Cond. No.                         28.4\n",
      "==============================================================================\n",
      "\n",
      "Notes:\n",
      "[1] Standard Errors assume that the covariance matrix of the errors is correctly specified.\n"
     ]
    },
    {
     "data": {
      "text/html": [
       "<div>\n",
       "<style scoped>\n",
       "    .dataframe tbody tr th:only-of-type {\n",
       "        vertical-align: middle;\n",
       "    }\n",
       "\n",
       "    .dataframe tbody tr th {\n",
       "        vertical-align: top;\n",
       "    }\n",
       "\n",
       "    .dataframe thead th {\n",
       "        text-align: right;\n",
       "    }\n",
       "</style>\n",
       "<table border=\"1\" class=\"dataframe\">\n",
       "  <thead>\n",
       "    <tr style=\"text-align: right;\">\n",
       "      <th></th>\n",
       "      <th>VIF Factor</th>\n",
       "      <th>features</th>\n",
       "    </tr>\n",
       "  </thead>\n",
       "  <tbody>\n",
       "    <tr>\n",
       "      <th>0</th>\n",
       "      <td>2.1</td>\n",
       "      <td>Food</td>\n",
       "    </tr>\n",
       "    <tr>\n",
       "      <th>1</th>\n",
       "      <td>2.5</td>\n",
       "      <td>Religion</td>\n",
       "    </tr>\n",
       "    <tr>\n",
       "      <th>2</th>\n",
       "      <td>1.4</td>\n",
       "      <td>Temperature</td>\n",
       "    </tr>\n",
       "    <tr>\n",
       "      <th>3</th>\n",
       "      <td>1.7</td>\n",
       "      <td>Fuel_Price</td>\n",
       "    </tr>\n",
       "    <tr>\n",
       "      <th>4</th>\n",
       "      <td>3.5</td>\n",
       "      <td>MarkDown1</td>\n",
       "    </tr>\n",
       "    <tr>\n",
       "      <th>5</th>\n",
       "      <td>1.3</td>\n",
       "      <td>MarkDown2</td>\n",
       "    </tr>\n",
       "    <tr>\n",
       "      <th>6</th>\n",
       "      <td>1.3</td>\n",
       "      <td>MarkDown3</td>\n",
       "    </tr>\n",
       "    <tr>\n",
       "      <th>7</th>\n",
       "      <td>3.2</td>\n",
       "      <td>MarkDown4</td>\n",
       "    </tr>\n",
       "    <tr>\n",
       "      <th>8</th>\n",
       "      <td>3.6</td>\n",
       "      <td>MarkDown5</td>\n",
       "    </tr>\n",
       "    <tr>\n",
       "      <th>9</th>\n",
       "      <td>1.3</td>\n",
       "      <td>CPI</td>\n",
       "    </tr>\n",
       "    <tr>\n",
       "      <th>10</th>\n",
       "      <td>1.2</td>\n",
       "      <td>Unemployment_Rate</td>\n",
       "    </tr>\n",
       "    <tr>\n",
       "      <th>11</th>\n",
       "      <td>3.9</td>\n",
       "      <td>Holiday</td>\n",
       "    </tr>\n",
       "    <tr>\n",
       "      <th>12</th>\n",
       "      <td>2.6</td>\n",
       "      <td>Size</td>\n",
       "    </tr>\n",
       "  </tbody>\n",
       "</table>\n",
       "</div>"
      ],
      "text/plain": [
       "    VIF Factor           features\n",
       "0          2.1               Food\n",
       "1          2.5           Religion\n",
       "2          1.4        Temperature\n",
       "3          1.7         Fuel_Price\n",
       "4          3.5          MarkDown1\n",
       "5          1.3          MarkDown2\n",
       "6          1.3          MarkDown3\n",
       "7          3.2          MarkDown4\n",
       "8          3.6          MarkDown5\n",
       "9          1.3                CPI\n",
       "10         1.2  Unemployment_Rate\n",
       "11         3.9            Holiday\n",
       "12         2.6               Size"
      ]
     },
     "execution_count": 83,
     "metadata": {},
     "output_type": "execute_result"
    }
   ],
   "source": [
    "#Converting into Dataframe\n",
    "X_train_d=pd.DataFrame(XX)\n",
    "\n",
    "\n",
    "#Printing the Model Statistics\n",
    "model_train = sm.OLS(yy.values.reshape(-1,1),X_train).fit()\n",
    "print(model_train.summary())\n",
    "print(\"---------------------------------------------------------------\")\n",
    "\n",
    "model_test= sm.OLS(y2.values.reshape(-1,1),X_test).fit()\n",
    "print(model_test.summary())\n",
    "\n",
    "\n",
    "\n",
    "#Checking the VIF Value\n",
    "\n",
    "from statsmodels.stats.outliers_influence import variance_inflation_factor\n",
    "vif = pd.DataFrame()\n",
    "vif[\"VIF Factor\"] =[variance_inflation_factor(X_train_d.values, j) for j in range(X_train_d.shape[1])]\n",
    "vif[\"features\"] = X_train_d.columns\n",
    "vif.round(1)"
   ]
  },
  {
   "cell_type": "markdown",
   "id": "0a653cd5-0cf5-4dfc-bf8b-4a7dd425fdf1",
   "metadata": {
    "jp-MarkdownHeadingCollapsed": true,
    "tags": []
   },
   "source": [
    "### LASSO"
   ]
  },
  {
   "cell_type": "code",
   "execution_count": 84,
   "id": "e0aee860-3ba1-470f-8538-0460f15644c3",
   "metadata": {},
   "outputs": [],
   "source": [
    "# Lasso Regularization\n",
    "# LassoCV will return best alpha and coefficients after performing 10 cross validations\n",
    "lasscv = LassoCV(alphas = None,cv =10, max_iter = 100000, normalize = True)\n",
    "lasscv.fit(XX, yy)\n",
    "# best alpha parameter\n",
    "alpha = lasscv.alpha_\n",
    "alpha\n",
    "#now that we have best parameter, let's use Lasso regression and see how well our data has fitted before\n",
    "lasso_reg = Lasso(alpha)\n",
    "lasso_reg.fit(XX, yy)\n",
    "prediction_lasso=lasso_reg.predict(XX)"
   ]
  },
  {
   "cell_type": "code",
   "execution_count": 85,
   "id": "b2c55203-c978-4299-b435-3be225fb75ee",
   "metadata": {},
   "outputs": [
    {
     "data": {
      "text/plain": [
       "0.7187982509927371"
      ]
     },
     "execution_count": 85,
     "metadata": {},
     "output_type": "execute_result"
    }
   ],
   "source": [
    "r2_score(yy,prediction_lasso)"
   ]
  },
  {
   "cell_type": "code",
   "execution_count": 86,
   "id": "73c9514b-1860-4f77-9951-3362219e125f",
   "metadata": {},
   "outputs": [],
   "source": [
    "prediction_lasso_valid=lasso_reg.predict(X2)"
   ]
  },
  {
   "cell_type": "code",
   "execution_count": 87,
   "id": "913b76b6-eb3b-4c72-9136-09dc8eb0c7ef",
   "metadata": {},
   "outputs": [
    {
     "data": {
      "text/plain": [
       "0.5413683429418326"
      ]
     },
     "execution_count": 87,
     "metadata": {},
     "output_type": "execute_result"
    }
   ],
   "source": [
    "r2_score(y2,prediction_lasso_valid)"
   ]
  },
  {
   "cell_type": "markdown",
   "id": "9e41bf3e-3063-4fb8-8a4c-ac118add179b",
   "metadata": {
    "jp-MarkdownHeadingCollapsed": true,
    "tags": []
   },
   "source": [
    "### Ridge"
   ]
  },
  {
   "cell_type": "code",
   "execution_count": 88,
   "id": "a8530922-1ca1-4f9b-9e83-12c8722185ae",
   "metadata": {},
   "outputs": [
    {
     "data": {
      "text/plain": [
       "0.7188294862314994"
      ]
     },
     "execution_count": 88,
     "metadata": {},
     "output_type": "execute_result"
    }
   ],
   "source": [
    "alphas = np.random.uniform(low=0, high=10, size=(50,))\n",
    "ridgecv = RidgeCV(alphas = alphas,cv=10,normalize = True)\n",
    "ridgecv.fit(XX, yy)\n",
    "ridge_reg = Ridge(alpha=ridgecv.alpha_)\n",
    "ridge_reg.fit(XX, yy)\n",
    "prediction_ridge=ridge_reg.predict(XX)\n",
    "r2_score(yy,prediction_ridge)"
   ]
  },
  {
   "cell_type": "code",
   "execution_count": 89,
   "id": "a945e640-5113-4260-8f50-ee10abbab189",
   "metadata": {},
   "outputs": [
    {
     "data": {
      "text/plain": [
       "0.5411014643745761"
      ]
     },
     "execution_count": 89,
     "metadata": {},
     "output_type": "execute_result"
    }
   ],
   "source": [
    "prediction_ridge_valid=ridge_reg.predict(X2)\n",
    "r2_score(y2,prediction_ridge_valid)"
   ]
  },
  {
   "cell_type": "markdown",
   "id": "98465d4b-15a1-4148-953b-828b97aa9627",
   "metadata": {
    "jp-MarkdownHeadingCollapsed": true,
    "tags": []
   },
   "source": [
    "### Elastic Net"
   ]
  },
  {
   "cell_type": "code",
   "execution_count": 90,
   "id": "928d6baa-d354-4e9b-bda1-1891a5c91075",
   "metadata": {},
   "outputs": [
    {
     "data": {
      "text/plain": [
       "0.005829110959770234"
      ]
     },
     "execution_count": 90,
     "metadata": {},
     "output_type": "execute_result"
    }
   ],
   "source": [
    "# Elastic net\n",
    "\n",
    "elasticCV = ElasticNetCV(alphas = None, cv =10)\n",
    "\n",
    "elasticCV.fit(XX, yy)\n",
    "elasticnet_reg = ElasticNet(alpha = elasticCV.alpha_,l1_ratio=0.5)\n",
    "elasticnet_reg.fit(XX, yy)\n",
    "prediction_elastic=elasticnet_reg.predict(XX)\n",
    "r2_score(yy,prediction_elastic)"
   ]
  },
  {
   "cell_type": "code",
   "execution_count": 91,
   "id": "56ccc557-6b09-4e6d-9a31-20c60c6a3d23",
   "metadata": {},
   "outputs": [
    {
     "data": {
      "text/plain": [
       "0.0042287622267317415"
      ]
     },
     "execution_count": 91,
     "metadata": {},
     "output_type": "execute_result"
    }
   ],
   "source": [
    "prediction_elastic_valid=elasticnet_reg.predict(X2)\n",
    "r2_score(y2,prediction_elastic_valid)"
   ]
  },
  {
   "cell_type": "markdown",
   "id": "8fdfa0ba-f2b6-42f2-a095-6c3a97cbc4a5",
   "metadata": {
    "tags": []
   },
   "source": [
    "### Decision Tree"
   ]
  },
  {
   "cell_type": "code",
   "execution_count": 92,
   "id": "136ee2e3-60af-4354-a613-0922f79adc7d",
   "metadata": {
    "tags": []
   },
   "outputs": [
    {
     "data": {
      "text/plain": [
       "0.6710528240544247"
      ]
     },
     "execution_count": 92,
     "metadata": {},
     "output_type": "execute_result"
    }
   ],
   "source": [
    "dt_model1 = DecisionTreeRegressor(max_depth=3,max_leaf_nodes=7,max_features=0.9,random_state=0)\n",
    "dt_model1.fit(XX,yy)\n",
    "dt_model1.score(XX,yy)"
   ]
  },
  {
   "cell_type": "code",
   "execution_count": 93,
   "id": "27e272db-a607-4ea8-99e0-f93fafb02d1d",
   "metadata": {},
   "outputs": [
    {
     "data": {
      "text/plain": [
       "0.5137514613345235"
      ]
     },
     "execution_count": 93,
     "metadata": {},
     "output_type": "execute_result"
    }
   ],
   "source": [
    "dt_model1.score(X2, y2)"
   ]
  },
  {
   "cell_type": "markdown",
   "id": "bfc52035-4f9a-4534-a2cf-1ed80bc0185e",
   "metadata": {
    "tags": []
   },
   "source": [
    "### KNN"
   ]
  },
  {
   "cell_type": "code",
   "execution_count": 94,
   "id": "8f543c15-bfca-4d48-9ae1-7a8da8def2fa",
   "metadata": {},
   "outputs": [],
   "source": [
    "knn=KNeighborsRegressor(n_neighbors=4,algorithm=\"auto\")"
   ]
  },
  {
   "cell_type": "code",
   "execution_count": 95,
   "id": "172c6769-2971-480f-bebe-9b728c6b4732",
   "metadata": {},
   "outputs": [
    {
     "data": {
      "text/html": [
       "<style>#sk-container-id-11 {color: black;background-color: white;}#sk-container-id-11 pre{padding: 0;}#sk-container-id-11 div.sk-toggleable {background-color: white;}#sk-container-id-11 label.sk-toggleable__label {cursor: pointer;display: block;width: 100%;margin-bottom: 0;padding: 0.3em;box-sizing: border-box;text-align: center;}#sk-container-id-11 label.sk-toggleable__label-arrow:before {content: \"▸\";float: left;margin-right: 0.25em;color: #696969;}#sk-container-id-11 label.sk-toggleable__label-arrow:hover:before {color: black;}#sk-container-id-11 div.sk-estimator:hover label.sk-toggleable__label-arrow:before {color: black;}#sk-container-id-11 div.sk-toggleable__content {max-height: 0;max-width: 0;overflow: hidden;text-align: left;background-color: #f0f8ff;}#sk-container-id-11 div.sk-toggleable__content pre {margin: 0.2em;color: black;border-radius: 0.25em;background-color: #f0f8ff;}#sk-container-id-11 input.sk-toggleable__control:checked~div.sk-toggleable__content {max-height: 200px;max-width: 100%;overflow: auto;}#sk-container-id-11 input.sk-toggleable__control:checked~label.sk-toggleable__label-arrow:before {content: \"▾\";}#sk-container-id-11 div.sk-estimator input.sk-toggleable__control:checked~label.sk-toggleable__label {background-color: #d4ebff;}#sk-container-id-11 div.sk-label input.sk-toggleable__control:checked~label.sk-toggleable__label {background-color: #d4ebff;}#sk-container-id-11 input.sk-hidden--visually {border: 0;clip: rect(1px 1px 1px 1px);clip: rect(1px, 1px, 1px, 1px);height: 1px;margin: -1px;overflow: hidden;padding: 0;position: absolute;width: 1px;}#sk-container-id-11 div.sk-estimator {font-family: monospace;background-color: #f0f8ff;border: 1px dotted black;border-radius: 0.25em;box-sizing: border-box;margin-bottom: 0.5em;}#sk-container-id-11 div.sk-estimator:hover {background-color: #d4ebff;}#sk-container-id-11 div.sk-parallel-item::after {content: \"\";width: 100%;border-bottom: 1px solid gray;flex-grow: 1;}#sk-container-id-11 div.sk-label:hover label.sk-toggleable__label {background-color: #d4ebff;}#sk-container-id-11 div.sk-serial::before {content: \"\";position: absolute;border-left: 1px solid gray;box-sizing: border-box;top: 0;bottom: 0;left: 50%;z-index: 0;}#sk-container-id-11 div.sk-serial {display: flex;flex-direction: column;align-items: center;background-color: white;padding-right: 0.2em;padding-left: 0.2em;position: relative;}#sk-container-id-11 div.sk-item {position: relative;z-index: 1;}#sk-container-id-11 div.sk-parallel {display: flex;align-items: stretch;justify-content: center;background-color: white;position: relative;}#sk-container-id-11 div.sk-item::before, #sk-container-id-11 div.sk-parallel-item::before {content: \"\";position: absolute;border-left: 1px solid gray;box-sizing: border-box;top: 0;bottom: 0;left: 50%;z-index: -1;}#sk-container-id-11 div.sk-parallel-item {display: flex;flex-direction: column;z-index: 1;position: relative;background-color: white;}#sk-container-id-11 div.sk-parallel-item:first-child::after {align-self: flex-end;width: 50%;}#sk-container-id-11 div.sk-parallel-item:last-child::after {align-self: flex-start;width: 50%;}#sk-container-id-11 div.sk-parallel-item:only-child::after {width: 0;}#sk-container-id-11 div.sk-dashed-wrapped {border: 1px dashed gray;margin: 0 0.4em 0.5em 0.4em;box-sizing: border-box;padding-bottom: 0.4em;background-color: white;}#sk-container-id-11 div.sk-label label {font-family: monospace;font-weight: bold;display: inline-block;line-height: 1.2em;}#sk-container-id-11 div.sk-label-container {text-align: center;}#sk-container-id-11 div.sk-container {/* jupyter's `normalize.less` sets `[hidden] { display: none; }` but bootstrap.min.css set `[hidden] { display: none !important; }` so we also need the `!important` here to be able to override the default hidden behavior on the sphinx rendered scikit-learn.org. See: https://github.com/scikit-learn/scikit-learn/issues/21755 */display: inline-block !important;position: relative;}#sk-container-id-11 div.sk-text-repr-fallback {display: none;}</style><div id=\"sk-container-id-11\" class=\"sk-top-container\"><div class=\"sk-text-repr-fallback\"><pre>KNeighborsRegressor(n_neighbors=4)</pre><b>In a Jupyter environment, please rerun this cell to show the HTML representation or trust the notebook. <br />On GitHub, the HTML representation is unable to render, please try loading this page with nbviewer.org.</b></div><div class=\"sk-container\" hidden><div class=\"sk-item\"><div class=\"sk-estimator sk-toggleable\"><input class=\"sk-toggleable__control sk-hidden--visually\" id=\"sk-estimator-id-11\" type=\"checkbox\" checked><label for=\"sk-estimator-id-11\" class=\"sk-toggleable__label sk-toggleable__label-arrow\">KNeighborsRegressor</label><div class=\"sk-toggleable__content\"><pre>KNeighborsRegressor(n_neighbors=4)</pre></div></div></div></div></div>"
      ],
      "text/plain": [
       "KNeighborsRegressor(n_neighbors=4)"
      ]
     },
     "execution_count": 95,
     "metadata": {},
     "output_type": "execute_result"
    }
   ],
   "source": [
    "knn.fit(X,y)"
   ]
  },
  {
   "cell_type": "code",
   "execution_count": 96,
   "id": "c843bd61-9e23-474a-86c8-bf2ff22f3407",
   "metadata": {},
   "outputs": [
    {
     "data": {
      "text/plain": [
       "0.9341454068616372"
      ]
     },
     "execution_count": 96,
     "metadata": {},
     "output_type": "execute_result"
    }
   ],
   "source": [
    "knn.score(X,y)"
   ]
  },
  {
   "cell_type": "code",
   "execution_count": 97,
   "id": "17800991-9d92-4dca-b2d4-7a48c9313d0d",
   "metadata": {},
   "outputs": [
    {
     "data": {
      "text/plain": [
       "0.8643609634775197"
      ]
     },
     "execution_count": 97,
     "metadata": {},
     "output_type": "execute_result"
    }
   ],
   "source": [
    "knn.score(X1, y1)"
   ]
  },
  {
   "cell_type": "markdown",
   "id": "971bfe0e-59dd-4503-a441-4f8c5d26f3ec",
   "metadata": {
    "tags": []
   },
   "source": [
    "# Cluster 3"
   ]
  },
  {
   "cell_type": "code",
   "execution_count": 98,
   "id": "928715e3-2074-4446-ab9d-b0addb84e757",
   "metadata": {},
   "outputs": [],
   "source": [
    "df3.drop(\"cluster\",axis=1,inplace=True)"
   ]
  },
  {
   "cell_type": "code",
   "execution_count": 99,
   "id": "16f82ae9-cf48-4caf-8f2d-7e0c37be7bec",
   "metadata": {},
   "outputs": [],
   "source": [
    "XXX=df3.drop(\"Total_Sales\",axis=1)\n",
    "yyy=df3[\"Total_Sales\"]"
   ]
  },
  {
   "cell_type": "markdown",
   "id": "42b77843-c962-4e3f-a1f8-cbdde6cbb1d2",
   "metadata": {
    "jp-MarkdownHeadingCollapsed": true,
    "tags": []
   },
   "source": [
    "### Linear Regresion"
   ]
  },
  {
   "cell_type": "code",
   "execution_count": 100,
   "id": "c9dd89b5-a193-472c-a9e9-011156ba2105",
   "metadata": {},
   "outputs": [],
   "source": [
    "lr=LinearRegression()"
   ]
  },
  {
   "cell_type": "code",
   "execution_count": 101,
   "id": "efe22b20-2644-4e7e-844f-ca7565aef3d5",
   "metadata": {},
   "outputs": [
    {
     "data": {
      "text/html": [
       "<style>#sk-container-id-12 {color: black;background-color: white;}#sk-container-id-12 pre{padding: 0;}#sk-container-id-12 div.sk-toggleable {background-color: white;}#sk-container-id-12 label.sk-toggleable__label {cursor: pointer;display: block;width: 100%;margin-bottom: 0;padding: 0.3em;box-sizing: border-box;text-align: center;}#sk-container-id-12 label.sk-toggleable__label-arrow:before {content: \"▸\";float: left;margin-right: 0.25em;color: #696969;}#sk-container-id-12 label.sk-toggleable__label-arrow:hover:before {color: black;}#sk-container-id-12 div.sk-estimator:hover label.sk-toggleable__label-arrow:before {color: black;}#sk-container-id-12 div.sk-toggleable__content {max-height: 0;max-width: 0;overflow: hidden;text-align: left;background-color: #f0f8ff;}#sk-container-id-12 div.sk-toggleable__content pre {margin: 0.2em;color: black;border-radius: 0.25em;background-color: #f0f8ff;}#sk-container-id-12 input.sk-toggleable__control:checked~div.sk-toggleable__content {max-height: 200px;max-width: 100%;overflow: auto;}#sk-container-id-12 input.sk-toggleable__control:checked~label.sk-toggleable__label-arrow:before {content: \"▾\";}#sk-container-id-12 div.sk-estimator input.sk-toggleable__control:checked~label.sk-toggleable__label {background-color: #d4ebff;}#sk-container-id-12 div.sk-label input.sk-toggleable__control:checked~label.sk-toggleable__label {background-color: #d4ebff;}#sk-container-id-12 input.sk-hidden--visually {border: 0;clip: rect(1px 1px 1px 1px);clip: rect(1px, 1px, 1px, 1px);height: 1px;margin: -1px;overflow: hidden;padding: 0;position: absolute;width: 1px;}#sk-container-id-12 div.sk-estimator {font-family: monospace;background-color: #f0f8ff;border: 1px dotted black;border-radius: 0.25em;box-sizing: border-box;margin-bottom: 0.5em;}#sk-container-id-12 div.sk-estimator:hover {background-color: #d4ebff;}#sk-container-id-12 div.sk-parallel-item::after {content: \"\";width: 100%;border-bottom: 1px solid gray;flex-grow: 1;}#sk-container-id-12 div.sk-label:hover label.sk-toggleable__label {background-color: #d4ebff;}#sk-container-id-12 div.sk-serial::before {content: \"\";position: absolute;border-left: 1px solid gray;box-sizing: border-box;top: 0;bottom: 0;left: 50%;z-index: 0;}#sk-container-id-12 div.sk-serial {display: flex;flex-direction: column;align-items: center;background-color: white;padding-right: 0.2em;padding-left: 0.2em;position: relative;}#sk-container-id-12 div.sk-item {position: relative;z-index: 1;}#sk-container-id-12 div.sk-parallel {display: flex;align-items: stretch;justify-content: center;background-color: white;position: relative;}#sk-container-id-12 div.sk-item::before, #sk-container-id-12 div.sk-parallel-item::before {content: \"\";position: absolute;border-left: 1px solid gray;box-sizing: border-box;top: 0;bottom: 0;left: 50%;z-index: -1;}#sk-container-id-12 div.sk-parallel-item {display: flex;flex-direction: column;z-index: 1;position: relative;background-color: white;}#sk-container-id-12 div.sk-parallel-item:first-child::after {align-self: flex-end;width: 50%;}#sk-container-id-12 div.sk-parallel-item:last-child::after {align-self: flex-start;width: 50%;}#sk-container-id-12 div.sk-parallel-item:only-child::after {width: 0;}#sk-container-id-12 div.sk-dashed-wrapped {border: 1px dashed gray;margin: 0 0.4em 0.5em 0.4em;box-sizing: border-box;padding-bottom: 0.4em;background-color: white;}#sk-container-id-12 div.sk-label label {font-family: monospace;font-weight: bold;display: inline-block;line-height: 1.2em;}#sk-container-id-12 div.sk-label-container {text-align: center;}#sk-container-id-12 div.sk-container {/* jupyter's `normalize.less` sets `[hidden] { display: none; }` but bootstrap.min.css set `[hidden] { display: none !important; }` so we also need the `!important` here to be able to override the default hidden behavior on the sphinx rendered scikit-learn.org. See: https://github.com/scikit-learn/scikit-learn/issues/21755 */display: inline-block !important;position: relative;}#sk-container-id-12 div.sk-text-repr-fallback {display: none;}</style><div id=\"sk-container-id-12\" class=\"sk-top-container\"><div class=\"sk-text-repr-fallback\"><pre>LinearRegression()</pre><b>In a Jupyter environment, please rerun this cell to show the HTML representation or trust the notebook. <br />On GitHub, the HTML representation is unable to render, please try loading this page with nbviewer.org.</b></div><div class=\"sk-container\" hidden><div class=\"sk-item\"><div class=\"sk-estimator sk-toggleable\"><input class=\"sk-toggleable__control sk-hidden--visually\" id=\"sk-estimator-id-12\" type=\"checkbox\" checked><label for=\"sk-estimator-id-12\" class=\"sk-toggleable__label sk-toggleable__label-arrow\">LinearRegression</label><div class=\"sk-toggleable__content\"><pre>LinearRegression()</pre></div></div></div></div></div>"
      ],
      "text/plain": [
       "LinearRegression()"
      ]
     },
     "execution_count": 101,
     "metadata": {},
     "output_type": "execute_result"
    }
   ],
   "source": [
    "lr.fit(XXX,yyy)"
   ]
  },
  {
   "cell_type": "code",
   "execution_count": 102,
   "id": "92db1198-1200-40f2-9856-7f17b81986d4",
   "metadata": {},
   "outputs": [],
   "source": [
    "pred=lr.predict(XXX)"
   ]
  },
  {
   "cell_type": "code",
   "execution_count": 103,
   "id": "1a054af5-1a4b-4392-be45-04deaba14824",
   "metadata": {},
   "outputs": [
    {
     "data": {
      "text/plain": [
       "0.48994861624097985"
      ]
     },
     "execution_count": 103,
     "metadata": {},
     "output_type": "execute_result"
    }
   ],
   "source": [
    "r2_score(yyy,pred)"
   ]
  },
  {
   "cell_type": "code",
   "execution_count": 104,
   "id": "ba15e2b5-67dc-41c7-b9d6-1520fcdf75eb",
   "metadata": {},
   "outputs": [],
   "source": [
    "df3_valid=cluster_df_valid[cluster_df_valid[\"cluster\"]==2]\n",
    "df3_valid.drop(\"cluster\",axis=1,inplace=True)\n",
    "X3=df3_valid.drop(\"Total_Sales\",axis=1)\n",
    "y3=df3_valid[\"Total_Sales\"]"
   ]
  },
  {
   "cell_type": "code",
   "execution_count": 105,
   "id": "29131ab6-fcbf-49f3-bcea-4667b85c7d3e",
   "metadata": {},
   "outputs": [],
   "source": [
    "pred=lr.predict(X3)"
   ]
  },
  {
   "cell_type": "code",
   "execution_count": 106,
   "id": "f3f9480e-9b2f-4096-9f8b-94478ff6fe44",
   "metadata": {},
   "outputs": [
    {
     "data": {
      "text/plain": [
       "0.5503406325741402"
      ]
     },
     "execution_count": 106,
     "metadata": {},
     "output_type": "execute_result"
    }
   ],
   "source": [
    "r2_score(y3,pred)"
   ]
  },
  {
   "cell_type": "markdown",
   "id": "05f3b262-2793-4386-a08f-a584cf105a28",
   "metadata": {
    "jp-MarkdownHeadingCollapsed": true,
    "tags": []
   },
   "source": [
    "### Statsmodel"
   ]
  },
  {
   "cell_type": "code",
   "execution_count": 107,
   "id": "d4fa942d-0fee-4573-a354-98c33b4d48bd",
   "metadata": {},
   "outputs": [],
   "source": [
    "#Adding Intercept term to the model\n",
    "X_train=sm.add_constant(XXX)\n",
    "X_test=sm.add_constant(X3)"
   ]
  },
  {
   "cell_type": "code",
   "execution_count": 108,
   "id": "aeae2b4a-89fd-40e8-ac39-417f0b11014f",
   "metadata": {},
   "outputs": [
    {
     "name": "stdout",
     "output_type": "stream",
     "text": [
      "                            OLS Regression Results                            \n",
      "==============================================================================\n",
      "Dep. Variable:                      y   R-squared:                       0.490\n",
      "Model:                            OLS   Adj. R-squared:                  0.483\n",
      "Method:                 Least Squares   F-statistic:                     67.72\n",
      "Date:                Fri, 16 Sep 2022   Prob (F-statistic):          6.99e-115\n",
      "Time:                        08:04:26   Log-Likelihood:                -12125.\n",
      "No. Observations:                 859   AIC:                         2.428e+04\n",
      "Df Residuals:                     846   BIC:                         2.434e+04\n",
      "Df Model:                          12                                         \n",
      "Covariance Type:            nonrobust                                         \n",
      "=====================================================================================\n",
      "                        coef    std err          t      P>|t|      [0.025      0.975]\n",
      "-------------------------------------------------------------------------------------\n",
      "const              8.643e+05   4.97e+04     17.395      0.000    7.67e+05    9.62e+05\n",
      "Food               2.024e+05   5.49e+04      3.686      0.000    9.47e+04     3.1e+05\n",
      "Religion          -7.055e-12   4.89e-11     -0.144      0.885   -1.03e-10     8.9e-11\n",
      "Temperature        5.697e+04   1.45e+04      3.931      0.000    2.85e+04    8.54e+04\n",
      "Fuel_Price        -1.586e+04   2.47e+04     -0.641      0.521   -6.44e+04    3.27e+04\n",
      "MarkDown1          6632.8493   1.22e+04      0.546      0.585   -1.72e+04    3.05e+04\n",
      "MarkDown2          6374.0011      1e+04      0.635      0.526   -1.33e+04    2.61e+04\n",
      "MarkDown3          8.873e+04   4.82e+04      1.840      0.066   -5911.232    1.83e+05\n",
      "MarkDown4         -3534.5533   9739.029     -0.363      0.717   -2.27e+04    1.56e+04\n",
      "MarkDown5           2.07e+04   6275.627      3.298      0.001    8378.776     3.3e+04\n",
      "CPI               -8.965e+04   1.32e+04     -6.790      0.000   -1.16e+05   -6.37e+04\n",
      "Unemployment_Rate -1.098e+05    1.3e+04     -8.475      0.000   -1.35e+05   -8.44e+04\n",
      "Holiday            3872.5754    2.6e+04      0.149      0.882   -4.72e+04    5.49e+04\n",
      "Size               5.871e+05   3.94e+04     14.883      0.000     5.1e+05    6.65e+05\n",
      "==============================================================================\n",
      "Omnibus:                       73.509   Durbin-Watson:                   1.903\n",
      "Prob(Omnibus):                  0.000   Jarque-Bera (JB):               90.532\n",
      "Skew:                           0.777   Prob(JB):                     2.19e-20\n",
      "Kurtosis:                       3.342   Cond. No.                     4.69e+16\n",
      "==============================================================================\n",
      "\n",
      "Notes:\n",
      "[1] Standard Errors assume that the covariance matrix of the errors is correctly specified.\n",
      "[2] The smallest eigenvalue is 4.6e-30. This might indicate that there are\n",
      "strong multicollinearity problems or that the design matrix is singular.\n",
      "---------------------------------------------------------------\n",
      "                            OLS Regression Results                            \n",
      "==============================================================================\n",
      "Dep. Variable:                      y   R-squared:                       0.578\n",
      "Model:                            OLS   Adj. R-squared:                  0.556\n",
      "Method:                 Least Squares   F-statistic:                     25.91\n",
      "Date:                Fri, 16 Sep 2022   Prob (F-statistic):           2.34e-33\n",
      "Time:                        08:04:26   Log-Likelihood:                -3088.2\n",
      "No. Observations:                 220   AIC:                             6200.\n",
      "Df Residuals:                     208   BIC:                             6241.\n",
      "Df Model:                          11                                         \n",
      "Covariance Type:            nonrobust                                         \n",
      "=====================================================================================\n",
      "                        coef    std err          t      P>|t|      [0.025      0.975]\n",
      "-------------------------------------------------------------------------------------\n",
      "Food               3.081e+05      1e+05      3.080      0.002    1.11e+05    5.05e+05\n",
      "Religion          -6.081e-09   5.93e-10    -10.261      0.000   -7.25e-09   -4.91e-09\n",
      "Temperature        9.401e+04   2.74e+04      3.433      0.001       4e+04    1.48e+05\n",
      "Fuel_Price        -5424.1829   4.34e+04     -0.125      0.901    -9.1e+04    8.01e+04\n",
      "MarkDown1          2.767e+04   2.21e+04      1.255      0.211   -1.58e+04    7.11e+04\n",
      "MarkDown2          3.821e+04   2.67e+04      1.433      0.153   -1.44e+04    9.08e+04\n",
      "MarkDown3          1.545e+05   8.03e+04      1.925      0.056   -3731.295    3.13e+05\n",
      "MarkDown4         -1758.6388    1.8e+04     -0.097      0.922   -3.73e+04    3.38e+04\n",
      "MarkDown5           2.12e+04    1.5e+04      1.416      0.158   -8320.560    5.07e+04\n",
      "CPI               -7.694e+04   2.42e+04     -3.174      0.002   -1.25e+05   -2.91e+04\n",
      "Unemployment_Rate -1.463e+05   2.68e+04     -5.452      0.000   -1.99e+05   -9.34e+04\n",
      "Holiday            -2.99e+06   3.38e+05     -8.842      0.000   -3.66e+06   -2.32e+06\n",
      "Size               6.187e+05   6.46e+04      9.576      0.000    4.91e+05    7.46e+05\n",
      "==============================================================================\n",
      "Omnibus:                       20.213   Durbin-Watson:                   1.875\n",
      "Prob(Omnibus):                  0.000   Jarque-Bera (JB):               22.900\n",
      "Skew:                           0.749   Prob(JB):                     1.06e-05\n",
      "Kurtosis:                       3.506   Cond. No.                     1.57e+16\n",
      "==============================================================================\n",
      "\n",
      "Notes:\n",
      "[1] Standard Errors assume that the covariance matrix of the errors is correctly specified.\n",
      "[2] The smallest eigenvalue is 9.88e-30. This might indicate that there are\n",
      "strong multicollinearity problems or that the design matrix is singular.\n"
     ]
    },
    {
     "data": {
      "text/html": [
       "<div>\n",
       "<style scoped>\n",
       "    .dataframe tbody tr th:only-of-type {\n",
       "        vertical-align: middle;\n",
       "    }\n",
       "\n",
       "    .dataframe tbody tr th {\n",
       "        vertical-align: top;\n",
       "    }\n",
       "\n",
       "    .dataframe thead th {\n",
       "        text-align: right;\n",
       "    }\n",
       "</style>\n",
       "<table border=\"1\" class=\"dataframe\">\n",
       "  <thead>\n",
       "    <tr style=\"text-align: right;\">\n",
       "      <th></th>\n",
       "      <th>VIF Factor</th>\n",
       "      <th>features</th>\n",
       "    </tr>\n",
       "  </thead>\n",
       "  <tbody>\n",
       "    <tr>\n",
       "      <th>0</th>\n",
       "      <td>3.2</td>\n",
       "      <td>Food</td>\n",
       "    </tr>\n",
       "    <tr>\n",
       "      <th>1</th>\n",
       "      <td>NaN</td>\n",
       "      <td>Religion</td>\n",
       "    </tr>\n",
       "    <tr>\n",
       "      <th>2</th>\n",
       "      <td>1.4</td>\n",
       "      <td>Temperature</td>\n",
       "    </tr>\n",
       "    <tr>\n",
       "      <th>3</th>\n",
       "      <td>3.8</td>\n",
       "      <td>Fuel_Price</td>\n",
       "    </tr>\n",
       "    <tr>\n",
       "      <th>4</th>\n",
       "      <td>5.7</td>\n",
       "      <td>MarkDown1</td>\n",
       "    </tr>\n",
       "    <tr>\n",
       "      <th>5</th>\n",
       "      <td>1.5</td>\n",
       "      <td>MarkDown2</td>\n",
       "    </tr>\n",
       "    <tr>\n",
       "      <th>6</th>\n",
       "      <td>1.1</td>\n",
       "      <td>MarkDown3</td>\n",
       "    </tr>\n",
       "    <tr>\n",
       "      <th>7</th>\n",
       "      <td>4.1</td>\n",
       "      <td>MarkDown4</td>\n",
       "    </tr>\n",
       "    <tr>\n",
       "      <th>8</th>\n",
       "      <td>1.5</td>\n",
       "      <td>MarkDown5</td>\n",
       "    </tr>\n",
       "    <tr>\n",
       "      <th>9</th>\n",
       "      <td>1.4</td>\n",
       "      <td>CPI</td>\n",
       "    </tr>\n",
       "    <tr>\n",
       "      <th>10</th>\n",
       "      <td>1.2</td>\n",
       "      <td>Unemployment_Rate</td>\n",
       "    </tr>\n",
       "    <tr>\n",
       "      <th>11</th>\n",
       "      <td>1.3</td>\n",
       "      <td>Holiday</td>\n",
       "    </tr>\n",
       "    <tr>\n",
       "      <th>12</th>\n",
       "      <td>4.1</td>\n",
       "      <td>Size</td>\n",
       "    </tr>\n",
       "  </tbody>\n",
       "</table>\n",
       "</div>"
      ],
      "text/plain": [
       "    VIF Factor           features\n",
       "0          3.2               Food\n",
       "1          NaN           Religion\n",
       "2          1.4        Temperature\n",
       "3          3.8         Fuel_Price\n",
       "4          5.7          MarkDown1\n",
       "5          1.5          MarkDown2\n",
       "6          1.1          MarkDown3\n",
       "7          4.1          MarkDown4\n",
       "8          1.5          MarkDown5\n",
       "9          1.4                CPI\n",
       "10         1.2  Unemployment_Rate\n",
       "11         1.3            Holiday\n",
       "12         4.1               Size"
      ]
     },
     "execution_count": 108,
     "metadata": {},
     "output_type": "execute_result"
    }
   ],
   "source": [
    "#Converting into Dataframe\n",
    "X_train_d=pd.DataFrame(XXX)\n",
    "\n",
    "\n",
    "#Printing the Model Statistics\n",
    "model_train = sm.OLS(yyy.values.reshape(-1,1),X_train).fit()\n",
    "print(model_train.summary())\n",
    "print(\"---------------------------------------------------------------\")\n",
    "\n",
    "model_test= sm.OLS(y3.values.reshape(-1,1),X_test).fit()\n",
    "print(model_test.summary())\n",
    "\n",
    "\n",
    "\n",
    "#Checking the VIF Value\n",
    "\n",
    "from statsmodels.stats.outliers_influence import variance_inflation_factor\n",
    "vif = pd.DataFrame()\n",
    "vif[\"VIF Factor\"] =[variance_inflation_factor(X_train_d.values, j) for j in range(X_train_d.shape[1])]\n",
    "vif[\"features\"] = X_train_d.columns\n",
    "vif.round(1)"
   ]
  },
  {
   "cell_type": "markdown",
   "id": "58231154-b538-4619-986a-c0f64392a543",
   "metadata": {
    "jp-MarkdownHeadingCollapsed": true,
    "tags": []
   },
   "source": [
    "### Lasso"
   ]
  },
  {
   "cell_type": "code",
   "execution_count": 109,
   "id": "f9809310-7755-4468-baf7-8a02b74f8dd8",
   "metadata": {},
   "outputs": [],
   "source": [
    "# Lasso Regularization\n",
    "# LassoCV will return best alpha and coefficients after performing 10 cross validations\n",
    "lasscv = LassoCV(alphas = None,cv =10, max_iter = 100000, normalize = True)\n",
    "lasscv.fit(XXX, yyy)\n",
    "# best alpha parameter\n",
    "alpha = lasscv.alpha_\n",
    "alpha\n",
    "#now that we have best parameter, let's use Lasso regression and see how well our data has fitted before\n",
    "lasso_reg = Lasso(alpha)\n",
    "lasso_reg.fit(XXX, yyy)\n",
    "prediction_lasso=lasso_reg.predict(XXX)"
   ]
  },
  {
   "cell_type": "code",
   "execution_count": 110,
   "id": "667f591d-51f4-4e95-9f0e-f5c723a8e584",
   "metadata": {},
   "outputs": [
    {
     "data": {
      "text/plain": [
       "0.48994142430766985"
      ]
     },
     "execution_count": 110,
     "metadata": {},
     "output_type": "execute_result"
    }
   ],
   "source": [
    "r2_score(yyy,prediction_lasso)"
   ]
  },
  {
   "cell_type": "code",
   "execution_count": 111,
   "id": "43192a9e-8a7e-432b-b4c9-8616022597b4",
   "metadata": {},
   "outputs": [],
   "source": [
    "prediction_lasso_valid=lasso_reg.predict(X3)"
   ]
  },
  {
   "cell_type": "code",
   "execution_count": 112,
   "id": "8d82d40c-a89a-4324-a036-369dcb944136",
   "metadata": {},
   "outputs": [
    {
     "data": {
      "text/plain": [
       "0.5500771574707217"
      ]
     },
     "execution_count": 112,
     "metadata": {},
     "output_type": "execute_result"
    }
   ],
   "source": [
    "r2_score(y3,prediction_lasso_valid)"
   ]
  },
  {
   "cell_type": "markdown",
   "id": "a672a41e-c6a4-4b97-9d23-08386dd491c1",
   "metadata": {
    "jp-MarkdownHeadingCollapsed": true,
    "tags": []
   },
   "source": [
    "### Ridge"
   ]
  },
  {
   "cell_type": "code",
   "execution_count": 113,
   "id": "a9f1533d-0a8c-4256-9d19-c61e3df48fca",
   "metadata": {},
   "outputs": [
    {
     "data": {
      "text/plain": [
       "0.48994861598403494"
      ]
     },
     "execution_count": 113,
     "metadata": {},
     "output_type": "execute_result"
    }
   ],
   "source": [
    "alphas = np.random.uniform(low=0, high=10, size=(50,))\n",
    "ridgecv = RidgeCV(alphas = alphas,cv=10,normalize = True)\n",
    "ridgecv.fit(XXX, yyy)\n",
    "ridge_reg = Ridge(alpha=ridgecv.alpha_)\n",
    "ridge_reg.fit(XXX, yyy)\n",
    "prediction_ridge=ridge_reg.predict(XXX)\n",
    "r2_score(yyy,prediction_ridge)"
   ]
  },
  {
   "cell_type": "code",
   "execution_count": 114,
   "id": "a43a4b49-b2e0-415c-937b-5bcc89c84db1",
   "metadata": {},
   "outputs": [
    {
     "data": {
      "text/plain": [
       "0.5503396035880632"
      ]
     },
     "execution_count": 114,
     "metadata": {},
     "output_type": "execute_result"
    }
   ],
   "source": [
    "prediction_ridge_valid=ridge_reg.predict(X3)\n",
    "r2_score(y3,prediction_ridge_valid)"
   ]
  },
  {
   "cell_type": "markdown",
   "id": "388a2a3e-6493-48e5-aeb5-f8bf3ac0974d",
   "metadata": {
    "jp-MarkdownHeadingCollapsed": true,
    "tags": []
   },
   "source": [
    "### Elastic Net"
   ]
  },
  {
   "cell_type": "code",
   "execution_count": 115,
   "id": "ed015039-9627-4039-be2d-5f5fd0931340",
   "metadata": {},
   "outputs": [
    {
     "data": {
      "text/plain": [
       "0.003764174777103224"
      ]
     },
     "execution_count": 115,
     "metadata": {},
     "output_type": "execute_result"
    }
   ],
   "source": [
    "# Elastic net\n",
    "\n",
    "elasticCV = ElasticNetCV(alphas = None, cv =10)\n",
    "\n",
    "elasticCV.fit(XXX, yyy)\n",
    "elasticnet_reg = ElasticNet(alpha = elasticCV.alpha_,l1_ratio=0.5)\n",
    "elasticnet_reg.fit(XXX, yyy)\n",
    "prediction_elastic=elasticnet_reg.predict(XXX)\n",
    "r2_score(yyy,prediction_elastic)"
   ]
  },
  {
   "cell_type": "code",
   "execution_count": 116,
   "id": "580e31dd-edd2-4041-8b46-20d54e4be0d4",
   "metadata": {},
   "outputs": [
    {
     "data": {
      "text/plain": [
       "-0.014445816818779544"
      ]
     },
     "execution_count": 116,
     "metadata": {},
     "output_type": "execute_result"
    }
   ],
   "source": [
    "prediction_elastic_valid=elasticnet_reg.predict(X3)\n",
    "r2_score(y3,prediction_elastic_valid)"
   ]
  },
  {
   "cell_type": "markdown",
   "id": "3214936b-78d8-443c-80ca-f78abbc8c889",
   "metadata": {
    "tags": []
   },
   "source": [
    "### Decision Tree"
   ]
  },
  {
   "cell_type": "code",
   "execution_count": 117,
   "id": "e03e2d64-588b-41ad-b147-4d577f1b8af1",
   "metadata": {
    "tags": []
   },
   "outputs": [
    {
     "data": {
      "text/plain": [
       "0.6208421901076138"
      ]
     },
     "execution_count": 117,
     "metadata": {},
     "output_type": "execute_result"
    }
   ],
   "source": [
    "dt_model1 = DecisionTreeRegressor(max_depth=4,max_leaf_nodes=7,random_state=0)\n",
    "dt_model1.fit(XXX,yyy)\n",
    "dt_model1.score(XXX,yyy)"
   ]
  },
  {
   "cell_type": "code",
   "execution_count": 118,
   "id": "a2c60ea0-89e6-4cfe-8800-4c74bd231125",
   "metadata": {},
   "outputs": [
    {
     "data": {
      "text/plain": [
       "0.5731915053025898"
      ]
     },
     "execution_count": 118,
     "metadata": {},
     "output_type": "execute_result"
    }
   ],
   "source": [
    "dt_model1.score(X3, y3)"
   ]
  },
  {
   "cell_type": "markdown",
   "id": "8317a734-9632-4698-a9e3-d8f5346a5881",
   "metadata": {
    "tags": []
   },
   "source": [
    "### KNN"
   ]
  },
  {
   "cell_type": "code",
   "execution_count": 148,
   "id": "09c5fc7d-9216-44b8-9169-0e64580e1f30",
   "metadata": {},
   "outputs": [],
   "source": [
    "knn=KNeighborsRegressor(n_neighbors=4,algorithm=\"auto\")"
   ]
  },
  {
   "cell_type": "code",
   "execution_count": 149,
   "id": "5c954048-e0f2-412a-82f5-c3a6b13d581c",
   "metadata": {},
   "outputs": [
    {
     "data": {
      "text/html": [
       "<style>#sk-container-id-19 {color: black;background-color: white;}#sk-container-id-19 pre{padding: 0;}#sk-container-id-19 div.sk-toggleable {background-color: white;}#sk-container-id-19 label.sk-toggleable__label {cursor: pointer;display: block;width: 100%;margin-bottom: 0;padding: 0.3em;box-sizing: border-box;text-align: center;}#sk-container-id-19 label.sk-toggleable__label-arrow:before {content: \"▸\";float: left;margin-right: 0.25em;color: #696969;}#sk-container-id-19 label.sk-toggleable__label-arrow:hover:before {color: black;}#sk-container-id-19 div.sk-estimator:hover label.sk-toggleable__label-arrow:before {color: black;}#sk-container-id-19 div.sk-toggleable__content {max-height: 0;max-width: 0;overflow: hidden;text-align: left;background-color: #f0f8ff;}#sk-container-id-19 div.sk-toggleable__content pre {margin: 0.2em;color: black;border-radius: 0.25em;background-color: #f0f8ff;}#sk-container-id-19 input.sk-toggleable__control:checked~div.sk-toggleable__content {max-height: 200px;max-width: 100%;overflow: auto;}#sk-container-id-19 input.sk-toggleable__control:checked~label.sk-toggleable__label-arrow:before {content: \"▾\";}#sk-container-id-19 div.sk-estimator input.sk-toggleable__control:checked~label.sk-toggleable__label {background-color: #d4ebff;}#sk-container-id-19 div.sk-label input.sk-toggleable__control:checked~label.sk-toggleable__label {background-color: #d4ebff;}#sk-container-id-19 input.sk-hidden--visually {border: 0;clip: rect(1px 1px 1px 1px);clip: rect(1px, 1px, 1px, 1px);height: 1px;margin: -1px;overflow: hidden;padding: 0;position: absolute;width: 1px;}#sk-container-id-19 div.sk-estimator {font-family: monospace;background-color: #f0f8ff;border: 1px dotted black;border-radius: 0.25em;box-sizing: border-box;margin-bottom: 0.5em;}#sk-container-id-19 div.sk-estimator:hover {background-color: #d4ebff;}#sk-container-id-19 div.sk-parallel-item::after {content: \"\";width: 100%;border-bottom: 1px solid gray;flex-grow: 1;}#sk-container-id-19 div.sk-label:hover label.sk-toggleable__label {background-color: #d4ebff;}#sk-container-id-19 div.sk-serial::before {content: \"\";position: absolute;border-left: 1px solid gray;box-sizing: border-box;top: 0;bottom: 0;left: 50%;z-index: 0;}#sk-container-id-19 div.sk-serial {display: flex;flex-direction: column;align-items: center;background-color: white;padding-right: 0.2em;padding-left: 0.2em;position: relative;}#sk-container-id-19 div.sk-item {position: relative;z-index: 1;}#sk-container-id-19 div.sk-parallel {display: flex;align-items: stretch;justify-content: center;background-color: white;position: relative;}#sk-container-id-19 div.sk-item::before, #sk-container-id-19 div.sk-parallel-item::before {content: \"\";position: absolute;border-left: 1px solid gray;box-sizing: border-box;top: 0;bottom: 0;left: 50%;z-index: -1;}#sk-container-id-19 div.sk-parallel-item {display: flex;flex-direction: column;z-index: 1;position: relative;background-color: white;}#sk-container-id-19 div.sk-parallel-item:first-child::after {align-self: flex-end;width: 50%;}#sk-container-id-19 div.sk-parallel-item:last-child::after {align-self: flex-start;width: 50%;}#sk-container-id-19 div.sk-parallel-item:only-child::after {width: 0;}#sk-container-id-19 div.sk-dashed-wrapped {border: 1px dashed gray;margin: 0 0.4em 0.5em 0.4em;box-sizing: border-box;padding-bottom: 0.4em;background-color: white;}#sk-container-id-19 div.sk-label label {font-family: monospace;font-weight: bold;display: inline-block;line-height: 1.2em;}#sk-container-id-19 div.sk-label-container {text-align: center;}#sk-container-id-19 div.sk-container {/* jupyter's `normalize.less` sets `[hidden] { display: none; }` but bootstrap.min.css set `[hidden] { display: none !important; }` so we also need the `!important` here to be able to override the default hidden behavior on the sphinx rendered scikit-learn.org. See: https://github.com/scikit-learn/scikit-learn/issues/21755 */display: inline-block !important;position: relative;}#sk-container-id-19 div.sk-text-repr-fallback {display: none;}</style><div id=\"sk-container-id-19\" class=\"sk-top-container\"><div class=\"sk-text-repr-fallback\"><pre>KNeighborsRegressor(n_neighbors=4)</pre><b>In a Jupyter environment, please rerun this cell to show the HTML representation or trust the notebook. <br />On GitHub, the HTML representation is unable to render, please try loading this page with nbviewer.org.</b></div><div class=\"sk-container\" hidden><div class=\"sk-item\"><div class=\"sk-estimator sk-toggleable\"><input class=\"sk-toggleable__control sk-hidden--visually\" id=\"sk-estimator-id-19\" type=\"checkbox\" checked><label for=\"sk-estimator-id-19\" class=\"sk-toggleable__label sk-toggleable__label-arrow\">KNeighborsRegressor</label><div class=\"sk-toggleable__content\"><pre>KNeighborsRegressor(n_neighbors=4)</pre></div></div></div></div></div>"
      ],
      "text/plain": [
       "KNeighborsRegressor(n_neighbors=4)"
      ]
     },
     "execution_count": 149,
     "metadata": {},
     "output_type": "execute_result"
    }
   ],
   "source": [
    "knn.fit(XXX,yyy)"
   ]
  },
  {
   "cell_type": "code",
   "execution_count": 150,
   "id": "ef9758de-39a3-45e9-bf47-309c8e6921f7",
   "metadata": {},
   "outputs": [
    {
     "data": {
      "text/plain": [
       "0.7423926903213638"
      ]
     },
     "execution_count": 150,
     "metadata": {},
     "output_type": "execute_result"
    }
   ],
   "source": [
    "knn.score(XXX,yyy)"
   ]
  },
  {
   "cell_type": "code",
   "execution_count": 151,
   "id": "aa97cdef-ea0f-4733-9a6d-dcd3e4f1aa86",
   "metadata": {},
   "outputs": [
    {
     "data": {
      "text/plain": [
       "0.4540104343425727"
      ]
     },
     "execution_count": 151,
     "metadata": {},
     "output_type": "execute_result"
    }
   ],
   "source": [
    "knn.score(X3, y3)"
   ]
  },
  {
   "cell_type": "code",
   "execution_count": 152,
   "id": "41edd07a-9bfa-4ad4-9149-49fb5728ed56",
   "metadata": {},
   "outputs": [],
   "source": [
    "import pickle"
   ]
  },
  {
   "cell_type": "code",
   "execution_count": 124,
   "id": "dfb19388-49e6-409c-a44b-e6e9312616b6",
   "metadata": {},
   "outputs": [],
   "source": [
    "file = open(\"cluster.pkl\",'rb')"
   ]
  },
  {
   "cell_type": "code",
   "execution_count": 125,
   "id": "ceb68222-cc85-428f-8340-ef94d3e73168",
   "metadata": {},
   "outputs": [],
   "source": [
    "object_file = pickle.load(file)"
   ]
  },
  {
   "cell_type": "code",
   "execution_count": 126,
   "id": "3f7faa34-3429-4a0a-b297-97d62c17c482",
   "metadata": {},
   "outputs": [],
   "source": [
    "df=pd.read_csv(\"test.csv\")"
   ]
  },
  {
   "cell_type": "code",
   "execution_count": 127,
   "id": "311d04bc-303a-4f2e-97f1-1ee24b7acd68",
   "metadata": {},
   "outputs": [
    {
     "data": {
      "text/plain": [
       "array([2, 2, 2, ..., 0, 0, 0], dtype=int32)"
      ]
     },
     "execution_count": 127,
     "metadata": {},
     "output_type": "execute_result"
    }
   ],
   "source": [
    "object_file.predict(df)"
   ]
  },
  {
   "cell_type": "code",
   "execution_count": null,
   "id": "45275f2d-c0a6-4a73-ba89-ede9728e5f47",
   "metadata": {},
   "outputs": [],
   "source": []
  }
 ],
 "metadata": {
  "kernelspec": {
   "display_name": "Python 3 (ipykernel)",
   "language": "python",
   "name": "python3"
  },
  "language_info": {
   "codemirror_mode": {
    "name": "ipython",
    "version": 3
   },
   "file_extension": ".py",
   "mimetype": "text/x-python",
   "name": "python",
   "nbconvert_exporter": "python",
   "pygments_lexer": "ipython3",
   "version": "3.9.12"
  }
 },
 "nbformat": 4,
 "nbformat_minor": 5
}
